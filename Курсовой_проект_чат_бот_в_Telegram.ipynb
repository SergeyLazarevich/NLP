{
  "nbformat": 4,
  "nbformat_minor": 0,
  "metadata": {
    "colab": {
      "provenance": []
    },
    "kernelspec": {
      "name": "python3",
      "display_name": "Python 3"
    },
    "language_info": {
      "name": "python"
    },
    "gpuClass": "standard"
  },
  "cells": [
    {
      "cell_type": "markdown",
      "source": [
        "# Генератор (болталка)"
      ],
      "metadata": {
        "id": "mu3csxfQcbe7"
      }
    },
    {
      "cell_type": "code",
      "source": [
        "!pip install transformers"
      ],
      "metadata": {
        "colab": {
          "base_uri": "https://localhost:8080/"
        },
        "id": "f0Sqj8x2Uwhu",
        "outputId": "756babcf-78ee-4d92-bf9e-1843ee381dcc"
      },
      "execution_count": 1,
      "outputs": [
        {
          "output_type": "stream",
          "name": "stdout",
          "text": [
            "Looking in indexes: https://pypi.org/simple, https://us-python.pkg.dev/colab-wheels/public/simple/\n",
            "Collecting transformers\n",
            "  Downloading transformers-4.25.1-py3-none-any.whl (5.8 MB)\n",
            "\u001b[K     |████████████████████████████████| 5.8 MB 5.3 MB/s \n",
            "\u001b[?25hRequirement already satisfied: tqdm>=4.27 in /usr/local/lib/python3.8/dist-packages (from transformers) (4.64.1)\n",
            "Requirement already satisfied: packaging>=20.0 in /usr/local/lib/python3.8/dist-packages (from transformers) (21.3)\n",
            "Requirement already satisfied: pyyaml>=5.1 in /usr/local/lib/python3.8/dist-packages (from transformers) (6.0)\n",
            "Requirement already satisfied: numpy>=1.17 in /usr/local/lib/python3.8/dist-packages (from transformers) (1.21.6)\n",
            "Collecting tokenizers!=0.11.3,<0.14,>=0.11.1\n",
            "  Downloading tokenizers-0.13.2-cp38-cp38-manylinux_2_17_x86_64.manylinux2014_x86_64.whl (7.6 MB)\n",
            "\u001b[K     |████████████████████████████████| 7.6 MB 50.8 MB/s \n",
            "\u001b[?25hRequirement already satisfied: regex!=2019.12.17 in /usr/local/lib/python3.8/dist-packages (from transformers) (2022.6.2)\n",
            "Requirement already satisfied: filelock in /usr/local/lib/python3.8/dist-packages (from transformers) (3.8.2)\n",
            "Collecting huggingface-hub<1.0,>=0.10.0\n",
            "  Downloading huggingface_hub-0.11.1-py3-none-any.whl (182 kB)\n",
            "\u001b[K     |████████████████████████████████| 182 kB 55.2 MB/s \n",
            "\u001b[?25hRequirement already satisfied: requests in /usr/local/lib/python3.8/dist-packages (from transformers) (2.23.0)\n",
            "Requirement already satisfied: typing-extensions>=3.7.4.3 in /usr/local/lib/python3.8/dist-packages (from huggingface-hub<1.0,>=0.10.0->transformers) (4.4.0)\n",
            "Requirement already satisfied: pyparsing!=3.0.5,>=2.0.2 in /usr/local/lib/python3.8/dist-packages (from packaging>=20.0->transformers) (3.0.9)\n",
            "Requirement already satisfied: idna<3,>=2.5 in /usr/local/lib/python3.8/dist-packages (from requests->transformers) (2.10)\n",
            "Requirement already satisfied: urllib3!=1.25.0,!=1.25.1,<1.26,>=1.21.1 in /usr/local/lib/python3.8/dist-packages (from requests->transformers) (1.24.3)\n",
            "Requirement already satisfied: certifi>=2017.4.17 in /usr/local/lib/python3.8/dist-packages (from requests->transformers) (2022.12.7)\n",
            "Requirement already satisfied: chardet<4,>=3.0.2 in /usr/local/lib/python3.8/dist-packages (from requests->transformers) (3.0.4)\n",
            "Installing collected packages: tokenizers, huggingface-hub, transformers\n",
            "Successfully installed huggingface-hub-0.11.1 tokenizers-0.13.2 transformers-4.25.1\n"
          ]
        }
      ]
    },
    {
      "cell_type": "code",
      "source": [
        "from transformers import GPT2LMHeadModel, GPT2Tokenizer\n",
        "import torch\n",
        "#DEVICE = torch.device(\"cuda:0\")\n",
        "\n",
        "model_name_or_path = \"radm/rugpt3medium-tathagata\"\n",
        "tokenizer = GPT2Tokenizer.from_pretrained(\"sberbank-ai/rugpt3medium_based_on_gpt2\")\n",
        "model = GPT2LMHeadModel.from_pretrained(model_name_or_path)#.to(DEVICE)"
      ],
      "metadata": {
        "id": "0koRjKobU1b3"
      },
      "execution_count": 3,
      "outputs": []
    },
    {
      "cell_type": "code",
      "source": [
        "def respond_to_dialog(texts):\n",
        "    prefix = '\\nx:'\n",
        "    for i, t in enumerate(texts):\n",
        "        prefix += t\n",
        "        prefix += '\\nx:' if i % 2 == 1 else '\\ny:'\n",
        "    tokens = tokenizer(prefix, return_tensors='pt')\n",
        "    tokens = {k: v.to(model.device) for k, v in tokens.items()}\n",
        "    end_token_id = tokenizer.encode('\\n')[0]\n",
        "    size = tokens['input_ids'].shape[1]\n",
        "    output = model.generate(\n",
        "        **tokens, \n",
        "        eos_token_id=end_token_id,\n",
        "        do_sample=True, \n",
        "        max_length=size+128, \n",
        "        repetition_penalty=3.2, \n",
        "        temperature=1,\n",
        "        num_beams=3,\n",
        "        length_penalty=0.01,\n",
        "        pad_token_id=end_token_id\n",
        "    )\n",
        "    decoded = tokenizer.decode(output[0])\n",
        "    result = decoded[len(prefix):]\n",
        "    return result.strip()"
      ],
      "metadata": {
        "id": "9n8Y9P7YU4q-"
      },
      "execution_count": 4,
      "outputs": []
    },
    {
      "cell_type": "markdown",
      "source": [
        "#\"Бот-всезнайка\""
      ],
      "metadata": {
        "id": "lLStPgD3dwfL"
      }
    },
    {
      "cell_type": "code",
      "source": [
        "!pip install wikipedia"
      ],
      "metadata": {
        "colab": {
          "base_uri": "https://localhost:8080/"
        },
        "id": "ocZBGm3-QUzG",
        "outputId": "e3950e5e-dfa0-40ad-fdce-1b69d3eb27c6"
      },
      "execution_count": 5,
      "outputs": [
        {
          "output_type": "stream",
          "name": "stdout",
          "text": [
            "Looking in indexes: https://pypi.org/simple, https://us-python.pkg.dev/colab-wheels/public/simple/\n",
            "Collecting wikipedia\n",
            "  Downloading wikipedia-1.4.0.tar.gz (27 kB)\n",
            "Requirement already satisfied: beautifulsoup4 in /usr/local/lib/python3.8/dist-packages (from wikipedia) (4.6.3)\n",
            "Requirement already satisfied: requests<3.0.0,>=2.0.0 in /usr/local/lib/python3.8/dist-packages (from wikipedia) (2.23.0)\n",
            "Requirement already satisfied: chardet<4,>=3.0.2 in /usr/local/lib/python3.8/dist-packages (from requests<3.0.0,>=2.0.0->wikipedia) (3.0.4)\n",
            "Requirement already satisfied: certifi>=2017.4.17 in /usr/local/lib/python3.8/dist-packages (from requests<3.0.0,>=2.0.0->wikipedia) (2022.12.7)\n",
            "Requirement already satisfied: urllib3!=1.25.0,!=1.25.1,<1.26,>=1.21.1 in /usr/local/lib/python3.8/dist-packages (from requests<3.0.0,>=2.0.0->wikipedia) (1.24.3)\n",
            "Requirement already satisfied: idna<3,>=2.5 in /usr/local/lib/python3.8/dist-packages (from requests<3.0.0,>=2.0.0->wikipedia) (2.10)\n",
            "Building wheels for collected packages: wikipedia\n",
            "  Building wheel for wikipedia (setup.py) ... \u001b[?25l\u001b[?25hdone\n",
            "  Created wheel for wikipedia: filename=wikipedia-1.4.0-py3-none-any.whl size=11695 sha256=52c266a1defe786d314eecb4217a1f8723ca4df72a6fc8bef327af10efa5d17f\n",
            "  Stored in directory: /root/.cache/pip/wheels/07/93/05/72c05349177dca2e0ba31a33ba4f7907606f7ddef303517c6a\n",
            "Successfully built wikipedia\n",
            "Installing collected packages: wikipedia\n",
            "Successfully installed wikipedia-1.4.0\n"
          ]
        }
      ]
    },
    {
      "cell_type": "code",
      "source": [
        "import wikipedia\n",
        "import re\n",
        "wikipedia.set_lang(\"ru\")"
      ],
      "metadata": {
        "id": "qSqXLEzBOMHv"
      },
      "execution_count": 10,
      "outputs": []
    },
    {
      "cell_type": "code",
      "source": [
        "# Чистим текст статьи из Wikipedia и ограничиваем его тысячей символов\n",
        "def getwiki(s):\n",
        "    try:\n",
        "        ny = wikipedia.page(s)\n",
        "        # Получаем первую тысячу символов\n",
        "        wikitext=ny.content[:2000]\n",
        "        # Разбиваем, считая точку разделителем\n",
        "        wikimas=wikitext.split('.')\n",
        "        # Отбрасываем всё после последней точки\n",
        "        wikimas = wikimas[:-1]\n",
        "        # Создаем пустую переменную для текста\n",
        "        wikitext2 = ''\n",
        "        # Проходимся по строкам, где нет знаков «равно» (то есть все, кроме заголовков)\n",
        "        for x in wikimas:\n",
        "            if not('==' in x):\n",
        "                    # Если в строке осталось больше трех символов, добавляем ее\n",
        "                    # к нашей переменной и возвращаем утерянные при разделении строк точки на место\n",
        "                if(len((x.strip()))>3):\n",
        "                   wikitext2=wikitext2+x+'.'\n",
        "            else:\n",
        "                break\n",
        "        # Теперь при помощи регулярных выражений убираем разметку\n",
        "        wikitext2=re.sub('\\([^()]*\\)', '', wikitext2)\n",
        "        wikitext2=re.sub('\\{[^\\{\\}]*\\}', '', wikitext2)\n",
        "        # Возвращаем текстовую строку\n",
        "        return wikitext2\n",
        "    # Обрабатываем исключение, которое мог вернуть модуль wikipedia при запросе\n",
        "    except Exception as e:\n",
        "        return 'В энциклопедии нет информации об этом'"
      ],
      "metadata": {
        "id": "Vaw5EeNqmpYI"
      },
      "execution_count": 11,
      "outputs": []
    },
    {
      "cell_type": "code",
      "source": [
        "print(getwiki('Минск'))"
      ],
      "metadata": {
        "colab": {
          "base_uri": "https://localhost:8080/"
        },
        "id": "WZj9jmrtnG1c",
        "outputId": "f25004a6-efcc-4355-fc7c-f4b395a03408"
      },
      "execution_count": 12,
      "outputs": [
        {
          "output_type": "stream",
          "name": "stdout",
          "text": [
            "Минск  — столица и крупнейший город Белоруссии, административный центр Минской области и Минского района, в состав которых не входит, поскольку является самостоятельной административно-территориальной единицей с особым  статусом. Крупнейший транспортный узел, политический, экономический, культурный и научный центр страны. Является ядром Минской агломерации. Десятый по численности населения  город в Европе, пятый — после Москвы, Санкт-Петербурга, Киева, Ташкента на территории бывшего СССР. Город расположен недалеко от географического центра страны и стоит на реке Свислочи. Площадь составляет 348,84 км², население — 1 996 553 человек без учёта пригородов. Город-герой .\n"
          ]
        }
      ]
    },
    {
      "cell_type": "markdown",
      "source": [
        "# Bot"
      ],
      "metadata": {
        "id": "OoLQkuICb8t_"
      }
    },
    {
      "cell_type": "code",
      "source": [
        "!pip install pytelegrambotapi"
      ],
      "metadata": {
        "colab": {
          "base_uri": "https://localhost:8080/"
        },
        "id": "cCSOWNUIr8hA",
        "outputId": "c5734db8-c987-4846-9bc4-0e491bdb7632"
      },
      "execution_count": 13,
      "outputs": [
        {
          "output_type": "stream",
          "name": "stdout",
          "text": [
            "Looking in indexes: https://pypi.org/simple, https://us-python.pkg.dev/colab-wheels/public/simple/\n",
            "Requirement already satisfied: pytelegrambotapi in /usr/local/lib/python3.8/dist-packages (4.8.0)\n",
            "Requirement already satisfied: requests in /usr/local/lib/python3.8/dist-packages (from pytelegrambotapi) (2.23.0)\n",
            "Requirement already satisfied: certifi>=2017.4.17 in /usr/local/lib/python3.8/dist-packages (from requests->pytelegrambotapi) (2022.12.7)\n",
            "Requirement already satisfied: idna<3,>=2.5 in /usr/local/lib/python3.8/dist-packages (from requests->pytelegrambotapi) (2.10)\n",
            "Requirement already satisfied: urllib3!=1.25.0,!=1.25.1,<1.26,>=1.21.1 in /usr/local/lib/python3.8/dist-packages (from requests->pytelegrambotapi) (1.24.3)\n",
            "Requirement already satisfied: chardet<4,>=3.0.2 in /usr/local/lib/python3.8/dist-packages (from requests->pytelegrambotapi) (3.0.4)\n"
          ]
        }
      ]
    },
    {
      "cell_type": "code",
      "source": [
        "history_dialog = []\n",
        "\n",
        "def babbler(text):\n",
        "    global history_dialog\n",
        "\n",
        "    history_dialog.append(text)\n",
        "    history_dialog.append(respond_to_dialog(history_dialog[-10:]))\n",
        "    if len(history_dialog) > 10: history_dialog = history_dialog[-10:]\n",
        "    \n",
        "    return history_dialog[-1]"
      ],
      "metadata": {
        "id": "MdmxBx-rEBvt"
      },
      "execution_count": 29,
      "outputs": []
    },
    {
      "cell_type": "code",
      "source": [
        "import telebot\n",
        "from telebot import types\n",
        "\n",
        "# Создаем экземпляр бота\n",
        "bot = telebot.TeleBot(\"5943099843:AAGU5zDXO7ftv7sQpJ5TD7EjpvOu-So8g6w\")\n",
        "\n",
        "# Функция, обрабатывающая команду /start\n",
        "@bot.message_handler(commands=['start'])\n",
        "def start(message):\n",
        "    markup = types.ReplyKeyboardMarkup(resize_keyboard=True)\n",
        "    btn1 = types.KeyboardButton(\"Привет\")\n",
        "    markup.add(btn1)\n",
        "    bot.send_message(message.chat.id, \"👋 Привет! Я твой бот-помошник!\", reply_markup=markup)\n",
        "\n",
        "Flag = 0\n",
        "@bot.callback_query_handler(func=lambda call: True)\n",
        "def callback_worker(call):\n",
        "    global Flag\n",
        "    # Если нажали на одну из кнопок\n",
        "    if call.data.lower() == 'поболтаем': \n",
        "        Flag = 1\n",
        "        bot.send_message(call.message.chat.id, 'О чём ты хочешь побалтать?')\n",
        "    if call.data.lower() == 'бот-всезнайка': \n",
        "        Flag = 2\n",
        "        bot.send_message(call.message.chat.id, 'О чём тебе расказать?')\n",
        "\n",
        "\n",
        "# Получение сообщений от пользователя\n",
        "@bot.message_handler(content_types=[\"text\"])\n",
        "def handle_text(message):\n",
        "    global Flag\n",
        "    \n",
        "    if message.text.lower() == 'привет': Flag = 0\n",
        "    \n",
        "\n",
        "    if Flag == 0:# or message.text == 'Назад':\n",
        "        # Готовим кнопки\n",
        "        keyboard = types.InlineKeyboardMarkup()\n",
        "        # И добавляем кнопку на экран\n",
        "        key_oven = types.InlineKeyboardButton(text='Поболтаем', callback_data='поболтаем')\n",
        "        # И добавляем кнопку на экран\n",
        "        keyboard.add(key_oven)\n",
        "        key_telec = types.InlineKeyboardButton(text='Бот-всезнайка', callback_data='бот-всезнайка')\n",
        "        keyboard.add(key_telec)\n",
        "        # Показываем все кнопки сразу и пишем сообщение о выборе\n",
        "        bot.send_message(message.chat.id, text='Сделайте выбор', reply_markup=keyboard)\n",
        "    \n",
        "    elif Flag == 1:\n",
        "        bot.send_message(message.chat.id, babbler(message.text))\n",
        "    \n",
        "    elif Flag == 2:\n",
        "        bot.send_message(message.chat.id, getwiki(message.text))\n",
        "\n",
        "\n",
        "# Запускаем бота\n",
        "bot.polling(none_stop=True, interval=0)"
      ],
      "metadata": {
        "id": "BJNBeKlgr7OI"
      },
      "execution_count": 38,
      "outputs": []
    }
  ]
}