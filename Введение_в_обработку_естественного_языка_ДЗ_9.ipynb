{
  "cells": [
    {
      "cell_type": "code",
      "execution_count": 1,
      "metadata": {
        "id": "yG_n40gFzf9s"
      },
      "outputs": [],
      "source": [
        "import tensorflow as tf\n",
        "\n",
        "import numpy as np\n",
        "import os\n",
        "import time"
      ]
    },
    {
      "cell_type": "code",
      "source": [
        "from google.colab import drive\n",
        "drive.mount('/content/drive')"
      ],
      "metadata": {
        "colab": {
          "base_uri": "https://localhost:8080/"
        },
        "id": "rxHDlSSOWiKM",
        "outputId": "66e34630-331a-497c-c60a-aee1cc42f296"
      },
      "execution_count": 2,
      "outputs": [
        {
          "output_type": "stream",
          "name": "stdout",
          "text": [
            "Mounted at /content/drive\n"
          ]
        }
      ]
    },
    {
      "cell_type": "code",
      "execution_count": 3,
      "metadata": {
        "colab": {
          "base_uri": "https://localhost:8080/"
        },
        "id": "0XkODFI0miar",
        "outputId": "29aff8a3-b266-4dc7-a8a7-0c9da7fd7f48"
      },
      "outputs": [
        {
          "output_type": "stream",
          "name": "stdout",
          "text": [
            "/content/drive/Othercomputers/Мое устройство Компьютер/Google.Disk/Colab Notebooks/data\n"
          ]
        }
      ],
      "source": [
        "%cd /content/drive/Othercomputers/Мое устройство Компьютер/Google.Disk/Colab Notebooks/data"
      ]
    },
    {
      "cell_type": "code",
      "execution_count": 4,
      "metadata": {
        "id": "-an5tHuaRmqD"
      },
      "outputs": [],
      "source": [
        "path_to_file = 'evgenyi_onegin.txt'"
      ]
    },
    {
      "cell_type": "code",
      "execution_count": 5,
      "metadata": {
        "colab": {
          "base_uri": "https://localhost:8080/"
        },
        "id": "aavnuByVymwK",
        "outputId": "bfc44ae0-aaa3-4a76-a2fa-b95246eb27f0"
      },
      "outputs": [
        {
          "output_type": "stream",
          "name": "stdout",
          "text": [
            "Length of text: 286984 characters\n"
          ]
        }
      ],
      "source": [
        "text = open(path_to_file, 'rb').read().decode(encoding='utf-8')\n",
        "# length of text is the number of characters in it\n",
        "print('Length of text: {} characters'.format(len(text)))"
      ]
    },
    {
      "cell_type": "code",
      "execution_count": 6,
      "metadata": {
        "colab": {
          "base_uri": "https://localhost:8080/"
        },
        "id": "Duhg9NrUymwO",
        "outputId": "8896d069-ffa6-4b58-b6ca-f1f44252624c"
      },
      "outputs": [
        {
          "output_type": "stream",
          "name": "stdout",
          "text": [
            "Александр Сергеевич Пушкин\n",
            "\n",
            "                                Евгений Онегин\n",
            "                                Роман в стихах\n",
            "\n",
            "                        Не мысля гордый свет забавить,\n",
            "                        Вниманье дружбы возлюбя,\n",
            "                        Хотел бы я тебе представить\n",
            "                        Залог достойнее тебя,\n",
            "                        Достойнее души прекрасной,\n",
            "                        Святой исполненной мечты,\n",
            "                        Поэзии живой и ясной,\n",
            "                        Высо\n"
          ]
        }
      ],
      "source": [
        "print(text[:500])"
      ]
    },
    {
      "cell_type": "code",
      "execution_count": 7,
      "metadata": {
        "id": "jtNGSzKn1o-6"
      },
      "outputs": [],
      "source": [
        "text = text + text"
      ]
    },
    {
      "cell_type": "code",
      "execution_count": 8,
      "metadata": {
        "colab": {
          "base_uri": "https://localhost:8080/"
        },
        "id": "IlCgQBRVymwR",
        "outputId": "0edd61a6-23ce-4ea7-98f0-87fb1beee1e6"
      },
      "outputs": [
        {
          "output_type": "stream",
          "name": "stdout",
          "text": [
            "131 unique characters\n"
          ]
        }
      ],
      "source": [
        "# The unique characters in the file\n",
        "vocab = sorted(set(text))\n",
        "print('{} unique characters'.format(len(vocab)))"
      ]
    },
    {
      "cell_type": "code",
      "execution_count": 9,
      "metadata": {
        "id": "IalZLbvOzf-F"
      },
      "outputs": [],
      "source": [
        "# Creating a mapping from unique characters to indices\n",
        "char2idx = {u:i for i, u in enumerate(vocab)}\n",
        "idx2char = np.array(vocab)\n",
        "\n",
        "text_as_int = np.array([char2idx[c] for c in text])"
      ]
    },
    {
      "cell_type": "code",
      "execution_count": 10,
      "metadata": {
        "colab": {
          "base_uri": "https://localhost:8080/"
        },
        "id": "p-DhY8bbTY3g",
        "outputId": "9d38974c-f837-4b70-b2c9-b530e53854df"
      },
      "outputs": [
        {
          "output_type": "execute_result",
          "data": {
            "text/plain": [
              "(573968, 573968)"
            ]
          },
          "metadata": {},
          "execution_count": 10
        }
      ],
      "source": [
        "len(text_as_int), len(text)"
      ]
    },
    {
      "cell_type": "markdown",
      "metadata": {
        "id": "hgsVvVxnymwf"
      },
      "source": [
        "### train and target"
      ]
    },
    {
      "cell_type": "code",
      "execution_count": 11,
      "metadata": {
        "colab": {
          "base_uri": "https://localhost:8080/"
        },
        "id": "0UHJDA39zf-O",
        "outputId": "3a002977-aaea-4f97-b949-b9cb44ed3e99"
      },
      "outputs": [
        {
          "output_type": "stream",
          "name": "stdout",
          "text": [
            "А\n",
            "л\n",
            "е\n",
            "к\n",
            "с\n"
          ]
        }
      ],
      "source": [
        "# The maximum length sentence you want for a single input in characters\n",
        "seq_length = 100\n",
        "examples_per_epoch = len(text)//(seq_length+1)\n",
        "\n",
        "# Create training examples / targets\n",
        "char_dataset = tf.data.Dataset.from_tensor_slices(text_as_int)\n",
        "\n",
        "for i in char_dataset.take(5):\n",
        "    print(idx2char[i.numpy()])"
      ]
    },
    {
      "cell_type": "code",
      "execution_count": 12,
      "metadata": {
        "colab": {
          "base_uri": "https://localhost:8080/"
        },
        "id": "l4hkDU3i7ozi",
        "outputId": "9dc97167-ca21-4235-c959-10fd5404f0dd"
      },
      "outputs": [
        {
          "output_type": "stream",
          "name": "stdout",
          "text": [
            "'Александр Сергеевич Пушкин\\n\\n                                Евгений Онегин\\n                          '\n",
            "'      Роман в стихах\\n\\n                        Не мысля гордый свет забавить,\\n                        '\n",
            "'Вниманье дружбы возлюбя,\\n                        Хотел бы я тебе представить\\n                        '\n",
            "'Залог достойнее тебя,\\n                        Достойнее души прекрасной,\\n                        Свят'\n",
            "'ой исполненной мечты,\\n                        Поэзии живой и ясной,\\n                        Высоких д'\n"
          ]
        }
      ],
      "source": [
        "sequences = char_dataset.batch(seq_length+1, drop_remainder=True)\n",
        "\n",
        "for item in sequences.take(5):\n",
        "    print(repr(''.join(idx2char[item.numpy()])))"
      ]
    },
    {
      "cell_type": "code",
      "execution_count": 13,
      "metadata": {
        "id": "9NGu-FkO_kYU"
      },
      "outputs": [],
      "source": [
        "def split_input_target(chunk):\n",
        "    input_text = chunk[:-1]\n",
        "    target_text = chunk[1:]\n",
        "    return input_text, target_text\n",
        "\n",
        "dataset = sequences.map(split_input_target)"
      ]
    },
    {
      "cell_type": "markdown",
      "metadata": {
        "id": "hiCopyGZymwi"
      },
      "source": [
        "Print the first example input and target values:"
      ]
    },
    {
      "cell_type": "code",
      "execution_count": 14,
      "metadata": {
        "colab": {
          "base_uri": "https://localhost:8080/"
        },
        "id": "GNbw-iR0ymwj",
        "outputId": "eae6d0e1-ff1e-4f16-f630-e945ff99593e"
      },
      "outputs": [
        {
          "output_type": "stream",
          "name": "stdout",
          "text": [
            "Input data:  'Александр Сергеевич Пушкин\\n\\n                                Евгений Онегин\\n                         '\n",
            "Target data: 'лександр Сергеевич Пушкин\\n\\n                                Евгений Онегин\\n                          '\n"
          ]
        }
      ],
      "source": [
        "for input_example, target_example in  dataset.take(1):\n",
        "    print('Input data: ', repr(''.join(idx2char[input_example.numpy()])))\n",
        "    print('Target data:', repr(''.join(idx2char[target_example.numpy()])))"
      ]
    },
    {
      "cell_type": "code",
      "execution_count": 15,
      "metadata": {
        "colab": {
          "base_uri": "https://localhost:8080/"
        },
        "id": "p2pGotuNzf-S",
        "outputId": "69c92f1f-83c9-4a10-8355-84bdce2c3622"
      },
      "outputs": [
        {
          "output_type": "execute_result",
          "data": {
            "text/plain": [
              "<BatchDataset element_spec=(TensorSpec(shape=(64, 100), dtype=tf.int64, name=None), TensorSpec(shape=(64, 100), dtype=tf.int64, name=None))>"
            ]
          },
          "metadata": {},
          "execution_count": 15
        }
      ],
      "source": [
        "# Batch size\n",
        "BATCH_SIZE = 64\n",
        "\n",
        "# Buffer size to shuffle the dataset\n",
        "# (TF data is designed to work with possibly infinite sequences,\n",
        "# so it doesn't attempt to shuffle the entire sequence in memory. Instead,\n",
        "# it maintains a buffer in which it shuffles elements).\n",
        "BUFFER_SIZE = 10000\n",
        "\n",
        "dataset = dataset.shuffle(BUFFER_SIZE).batch(BATCH_SIZE, drop_remainder=True)\n",
        "\n",
        "dataset"
      ]
    },
    {
      "cell_type": "code",
      "execution_count": 16,
      "metadata": {
        "id": "zHT8cLh7EAsg"
      },
      "outputs": [],
      "source": [
        "# Length of the vocabulary in chars\n",
        "vocab_size = len(vocab)\n",
        "\n",
        "# The embedding dimension\n",
        "embedding_dim = 128\n",
        "\n",
        "# Number of RNN units\n",
        "rnn_units = 1024"
      ]
    },
    {
      "cell_type": "code",
      "execution_count": 17,
      "metadata": {
        "id": "MtCrdfzEI2N0"
      },
      "outputs": [],
      "source": [
        "def build_model_LSTM(vocab_size, embedding_dim, rnn_units, batch_size):\n",
        "    model = tf.keras.Sequential([\n",
        "        tf.keras.layers.Embedding(vocab_size, embedding_dim,\n",
        "                                  batch_input_shape=[batch_size, None]),\n",
        "                                 \n",
        "        tf.keras.layers.LSTM(rnn_units,\n",
        "                            return_sequences=True,\n",
        "                            stateful=True,\n",
        "                            recurrent_initializer='glorot_uniform'),\n",
        "\n",
        "        tf.keras.layers.LSTM(rnn_units,\n",
        "                            return_sequences=True,\n",
        "                            stateful=True,\n",
        "                            recurrent_initializer='glorot_uniform'),\n",
        "\n",
        "         tf.keras.layers.LSTM(rnn_units,\n",
        "                            return_sequences=True,\n",
        "                            stateful=True,\n",
        "                            recurrent_initializer='glorot_uniform'),\n",
        "        \n",
        "        tf.keras.layers.LSTM(rnn_units,\n",
        "                            return_sequences=True,\n",
        "                            stateful=True,\n",
        "                            recurrent_initializer='glorot_uniform'),\n",
        "                                   \n",
        "        tf.keras.layers.Dense(vocab_size)\n",
        "    ])\n",
        "    return model"
      ]
    },
    {
      "cell_type": "code",
      "execution_count": 24,
      "metadata": {
        "id": "FNfDlxWZ8NXK"
      },
      "outputs": [],
      "source": [
        "def build_model_GRU(vocab_size, embedding_dim, rnn_units, batch_size):\n",
        "    model = tf.keras.Sequential([\n",
        "        tf.keras.layers.Embedding(vocab_size, embedding_dim),\n",
        "                                 \n",
        "        tf.keras.layers.GRU(rnn_units,\n",
        "                            return_sequences=True,\n",
        "                            stateful=False,\n",
        "                            recurrent_initializer='glorot_uniform'),\n",
        "\n",
        "        tf.keras.layers.GRU(rnn_units,\n",
        "                            return_sequences=True,\n",
        "                            stateful=False,\n",
        "                            recurrent_initializer='glorot_uniform'),\n",
        "\n",
        "        tf.keras.layers.GRU(rnn_units,\n",
        "                            return_sequences=True,\n",
        "                            stateful=False,\n",
        "                            recurrent_initializer='glorot_uniform'),\n",
        "        tf.keras.layers.GRU(rnn_units,\n",
        "                            return_sequences=True,\n",
        "                            stateful=False,\n",
        "                            recurrent_initializer='glorot_uniform'),\n",
        "                                                       \n",
        "        tf.keras.layers.Dense(vocab_size)\n",
        "    ])\n",
        "    return model"
      ]
    },
    {
      "cell_type": "code",
      "execution_count": 39,
      "metadata": {
        "id": "wwsrpOik5zhv"
      },
      "outputs": [],
      "source": [
        "model_LSTM = build_model_LSTM(\n",
        "                vocab_size=len(vocab),\n",
        "                embedding_dim=embedding_dim,\n",
        "                rnn_units=rnn_units,\n",
        "                batch_size=BATCH_SIZE)\n",
        "\n",
        "model_GRU = build_model_GRU(\n",
        "                vocab_size=len(vocab),\n",
        "                embedding_dim=embedding_dim,\n",
        "                rnn_units=rnn_units,\n",
        "                batch_size=BATCH_SIZE)"
      ]
    },
    {
      "cell_type": "code",
      "execution_count": 40,
      "metadata": {
        "colab": {
          "base_uri": "https://localhost:8080/"
        },
        "id": "C-_70kKAPrPU",
        "outputId": "cdb58180-cadc-434b-ba21-d681ca34fdd8"
      },
      "outputs": [
        {
          "output_type": "stream",
          "name": "stdout",
          "text": [
            "(64, 100, 131) # (batch_size, sequence_length, vocab_size)\n"
          ]
        }
      ],
      "source": [
        "for input_example_batch, target_example_batch in dataset.take(1):\n",
        "    example_batch_predictions = model_LSTM(input_example_batch)\n",
        "    print(example_batch_predictions.shape, \"# (batch_size, sequence_length, vocab_size)\")"
      ]
    },
    {
      "cell_type": "code",
      "source": [
        "for input_example_batch, target_example_batch in dataset.take(1):\n",
        "    example_batch_predictions = model_GRU(input_example_batch)\n",
        "    print(example_batch_predictions.shape, \"# (batch_size, sequence_length, vocab_size)\")"
      ],
      "metadata": {
        "colab": {
          "base_uri": "https://localhost:8080/"
        },
        "id": "QwmJJvdWPwBm",
        "outputId": "6a3f0b1a-c28f-4cf1-816f-2f825a72d9e0"
      },
      "execution_count": 41,
      "outputs": [
        {
          "output_type": "stream",
          "name": "stdout",
          "text": [
            "(64, 100, 131) # (batch_size, sequence_length, vocab_size)\n"
          ]
        }
      ]
    },
    {
      "cell_type": "code",
      "execution_count": 28,
      "metadata": {
        "colab": {
          "base_uri": "https://localhost:8080/"
        },
        "id": "vPGmAAXmVLGC",
        "outputId": "4320dcd8-db4b-4d2d-9b4e-cb521107d42c"
      },
      "outputs": [
        {
          "output_type": "stream",
          "name": "stdout",
          "text": [
            "Model: \"sequential_2\"\n",
            "_________________________________________________________________\n",
            " Layer (type)                Output Shape              Param #   \n",
            "=================================================================\n",
            " embedding_2 (Embedding)     (64, None, 128)           16768     \n",
            "                                                                 \n",
            " lstm_4 (LSTM)               (64, None, 1024)          4722688   \n",
            "                                                                 \n",
            " lstm_5 (LSTM)               (64, None, 1024)          8392704   \n",
            "                                                                 \n",
            " lstm_6 (LSTM)               (64, None, 1024)          8392704   \n",
            "                                                                 \n",
            " lstm_7 (LSTM)               (64, None, 1024)          8392704   \n",
            "                                                                 \n",
            " dense_2 (Dense)             (64, None, 131)           134275    \n",
            "                                                                 \n",
            "=================================================================\n",
            "Total params: 30,051,843\n",
            "Trainable params: 30,051,843\n",
            "Non-trainable params: 0\n",
            "_________________________________________________________________\n"
          ]
        }
      ],
      "source": [
        "model_LSTM.summary()"
      ]
    },
    {
      "cell_type": "code",
      "source": [
        "model_GRU.summary()"
      ],
      "metadata": {
        "colab": {
          "base_uri": "https://localhost:8080/"
        },
        "id": "w5pQIVzrP62-",
        "outputId": "efc11ce4-9043-4319-a8d8-655f1712a357"
      },
      "execution_count": 29,
      "outputs": [
        {
          "output_type": "stream",
          "name": "stdout",
          "text": [
            "Model: \"sequential_3\"\n",
            "_________________________________________________________________\n",
            " Layer (type)                Output Shape              Param #   \n",
            "=================================================================\n",
            " embedding_3 (Embedding)     (None, None, 128)         16768     \n",
            "                                                                 \n",
            " gru_3 (GRU)                 (None, None, 1024)        3545088   \n",
            "                                                                 \n",
            " gru_4 (GRU)                 (None, None, 1024)        6297600   \n",
            "                                                                 \n",
            " gru_5 (GRU)                 (None, None, 1024)        6297600   \n",
            "                                                                 \n",
            " gru_6 (GRU)                 (None, None, 1024)        6297600   \n",
            "                                                                 \n",
            " dense_3 (Dense)             (None, None, 131)         134275    \n",
            "                                                                 \n",
            "=================================================================\n",
            "Total params: 22,588,931\n",
            "Trainable params: 22,588,931\n",
            "Non-trainable params: 0\n",
            "_________________________________________________________________\n"
          ]
        }
      ]
    },
    {
      "cell_type": "code",
      "execution_count": 30,
      "metadata": {
        "colab": {
          "base_uri": "https://localhost:8080/"
        },
        "id": "aFkC1pcZjQFq",
        "outputId": "803e311b-e164-4866-b54d-93fce23c2432"
      },
      "outputs": [
        {
          "output_type": "execute_result",
          "data": {
            "text/plain": [
              "<tf.Tensor: shape=(100, 131), dtype=float32, numpy=\n",
              "array([[-1.3629129e-04, -4.7431971e-05, -4.0433940e-04, ...,\n",
              "         6.2282517e-05,  3.0622212e-04,  2.1896471e-04],\n",
              "       [-3.7538761e-04, -1.7631231e-04, -1.5345920e-03, ...,\n",
              "        -3.3989367e-05,  6.1750936e-04,  7.6029456e-04],\n",
              "       [-2.0577875e-04, -2.7565460e-05, -2.6544961e-03, ...,\n",
              "         1.6791823e-04,  9.4978901e-04,  1.1444013e-03],\n",
              "       ...,\n",
              "       [ 1.9948801e-03,  5.6580710e-04, -4.5413761e-03, ...,\n",
              "        -2.2248162e-03,  1.2810150e-02,  1.3575548e-03],\n",
              "       [ 1.9946438e-03,  5.6177157e-04, -4.5373766e-03, ...,\n",
              "        -2.2213571e-03,  1.2816023e-02,  1.3576783e-03],\n",
              "       [ 1.8185466e-03,  6.6633476e-04, -4.2639826e-03, ...,\n",
              "        -2.0401236e-03,  1.2456469e-02,  7.9884159e-04]], dtype=float32)>"
            ]
          },
          "metadata": {},
          "execution_count": 30
        }
      ],
      "source": [
        "example_batch_predictions[0]"
      ]
    },
    {
      "cell_type": "code",
      "execution_count": 42,
      "metadata": {
        "id": "4V4MfFg0RQJg"
      },
      "outputs": [],
      "source": [
        "sampled_indices = tf.random.categorical(example_batch_predictions[0], num_samples=1)\n",
        "sampled_indices = tf.squeeze(sampled_indices,axis=-1).numpy()"
      ]
    },
    {
      "cell_type": "code",
      "execution_count": 43,
      "metadata": {
        "colab": {
          "base_uri": "https://localhost:8080/"
        },
        "id": "xWcFwPwLSo05",
        "outputId": "6c801f8f-7920-44bf-f64a-1785d831091f"
      },
      "outputs": [
        {
          "output_type": "stream",
          "name": "stdout",
          "text": [
            "Input: \n",
            " '            Между Онегиным и мной,\\n                        Чтобы насмешливый читатель\\n              '\n",
            "\n",
            "Next Char Predictions: \n",
            " 'эхгGгМ,GКg7МLС8A2uA5ШDьADEюоФ?в)ла-THoсp0Ч7{Ш!5\\'зШeЦAНfrд ЛНOЧqз4FУLkOз\"рт22wрГ5ЬdЬuIэТgйЛРw7DRv\\'жКв'\n"
          ]
        }
      ],
      "source": [
        "print(\"Input: \\n\", repr(\"\".join(idx2char[input_example_batch[10]])))\n",
        "print()\n",
        "print(\"Next Char Predictions: \\n\", repr(\"\".join(idx2char[sampled_indices ])))"
      ]
    },
    {
      "cell_type": "markdown",
      "metadata": {
        "id": "LJL0Q0YPY6Ee"
      },
      "source": [
        "## Train the model"
      ]
    },
    {
      "cell_type": "code",
      "execution_count": 44,
      "metadata": {
        "colab": {
          "base_uri": "https://localhost:8080/"
        },
        "id": "4HrXTACTdzY-",
        "outputId": "00666852-d0fe-4a40-a148-da486e4cc57d"
      },
      "outputs": [
        {
          "output_type": "stream",
          "name": "stdout",
          "text": [
            "Prediction shape:  (64, 100, 131)  # (batch_size, sequence_length, vocab_size)\n",
            "scalar_loss:       4.8783\n"
          ]
        }
      ],
      "source": [
        "def loss(labels, logits):\n",
        "    return tf.keras.losses.sparse_categorical_crossentropy(labels, logits, from_logits=True)\n",
        "\n",
        "example_batch_loss = loss(target_example_batch, example_batch_predictions)\n",
        "print(\"Prediction shape: \", example_batch_predictions.shape, \" # (batch_size, sequence_length, vocab_size)\")\n",
        "print(\"scalar_loss:      \", example_batch_loss.numpy().mean())"
      ]
    },
    {
      "cell_type": "code",
      "execution_count": 45,
      "metadata": {
        "id": "DDl1_Een6rL0"
      },
      "outputs": [],
      "source": [
        "model_LSTM.compile(optimizer='adam', loss=loss)\n",
        "model_GRU.compile(optimizer='adam', loss=loss)"
      ]
    },
    {
      "cell_type": "markdown",
      "metadata": {
        "id": "ieSJdchZggUj"
      },
      "source": [
        "### Configure checkpoints"
      ]
    },
    {
      "cell_type": "code",
      "execution_count": 46,
      "metadata": {
        "id": "W6fWTriUZP-n"
      },
      "outputs": [],
      "source": [
        "# Directory where the checkpoints will be saved\n",
        "checkpoint_dir_LSTM = './training_checkpoints_LSTM'\n",
        "# Name of the checkpoint files\n",
        "checkpoint_prefix = os.path.join(checkpoint_dir_LSTM, \"LSTM_{epoch}\")\n",
        "\n",
        "checkpoint_callback_LSTM = tf.keras.callbacks.ModelCheckpoint(\n",
        "    filepath=checkpoint_prefix,\n",
        "    save_freq=88*3,\n",
        "    save_weights_only=True)\n",
        "\n",
        "# Directory where the checkpoints will be saved\n",
        "checkpoint_dir_GRU = './training_checkpoints_GRU'\n",
        "# Name of the checkpoint files\n",
        "checkpoint_prefix = os.path.join(checkpoint_dir_GRU, \"GRU_{epoch}\")\n",
        "\n",
        "checkpoint_callback_GRU = tf.keras.callbacks.ModelCheckpoint(\n",
        "    filepath=checkpoint_prefix,\n",
        "    save_freq=88*3,\n",
        "    save_weights_only=True)"
      ]
    },
    {
      "cell_type": "markdown",
      "metadata": {
        "id": "3Ky3F_BhgkTW"
      },
      "source": [
        "### Execute the training"
      ]
    },
    {
      "cell_type": "code",
      "execution_count": 47,
      "metadata": {
        "id": "7yGBE2zxMMHs"
      },
      "outputs": [],
      "source": [
        "EPOCHS = 30"
      ]
    },
    {
      "cell_type": "code",
      "execution_count": 48,
      "metadata": {
        "colab": {
          "base_uri": "https://localhost:8080/"
        },
        "id": "UK-hmKjYVoll",
        "outputId": "eab30b83-42ef-44eb-8aff-91377f409675"
      },
      "outputs": [
        {
          "output_type": "stream",
          "name": "stdout",
          "text": [
            "Epoch 1/30\n",
            "88/88 [==============================] - 34s 329ms/step - loss: 2.2849\n",
            "Epoch 2/30\n",
            "88/88 [==============================] - 30s 339ms/step - loss: 1.6960\n",
            "Epoch 3/30\n",
            "88/88 [==============================] - 32s 361ms/step - loss: 1.5038\n",
            "Epoch 4/30\n",
            "88/88 [==============================] - 31s 347ms/step - loss: 1.4146\n",
            "Epoch 5/30\n",
            "88/88 [==============================] - 31s 350ms/step - loss: 1.3854\n",
            "Epoch 6/30\n",
            "88/88 [==============================] - 34s 381ms/step - loss: 1.3585\n",
            "Epoch 7/30\n",
            "88/88 [==============================] - 33s 365ms/step - loss: 1.3179\n",
            "Epoch 8/30\n",
            "88/88 [==============================] - 33s 366ms/step - loss: 1.3002\n",
            "Epoch 9/30\n",
            "88/88 [==============================] - 34s 377ms/step - loss: 1.2826\n",
            "Epoch 10/30\n",
            "88/88 [==============================] - 33s 367ms/step - loss: 1.2677\n",
            "Epoch 11/30\n",
            "88/88 [==============================] - 33s 366ms/step - loss: 1.2385\n",
            "Epoch 12/30\n",
            "88/88 [==============================] - 35s 386ms/step - loss: 1.2164\n",
            "Epoch 13/30\n",
            "88/88 [==============================] - 33s 366ms/step - loss: 1.2012\n",
            "Epoch 14/30\n",
            "88/88 [==============================] - 33s 368ms/step - loss: 1.1604\n",
            "Epoch 15/30\n",
            "88/88 [==============================] - 34s 383ms/step - loss: 1.1398\n",
            "Epoch 16/30\n",
            "88/88 [==============================] - 33s 368ms/step - loss: 1.1120\n",
            "Epoch 17/30\n",
            "88/88 [==============================] - 33s 370ms/step - loss: 1.0755\n",
            "Epoch 18/30\n",
            "88/88 [==============================] - 34s 380ms/step - loss: 1.0450\n",
            "Epoch 19/30\n",
            "88/88 [==============================] - 33s 364ms/step - loss: 1.0135\n",
            "Epoch 20/30\n",
            "88/88 [==============================] - 33s 367ms/step - loss: 0.9786\n",
            "Epoch 21/30\n",
            "88/88 [==============================] - 35s 389ms/step - loss: 0.9536\n",
            "Epoch 22/30\n",
            "88/88 [==============================] - 33s 370ms/step - loss: 0.9290\n",
            "Epoch 23/30\n",
            "88/88 [==============================] - 33s 367ms/step - loss: 0.8696\n",
            "Epoch 24/30\n",
            "88/88 [==============================] - 34s 382ms/step - loss: 0.8263\n",
            "Epoch 25/30\n",
            "88/88 [==============================] - 34s 367ms/step - loss: 0.7780\n",
            "Epoch 26/30\n",
            "88/88 [==============================] - 33s 365ms/step - loss: 0.7332\n",
            "Epoch 27/30\n",
            "88/88 [==============================] - 35s 391ms/step - loss: 0.6841\n",
            "Epoch 28/30\n",
            "88/88 [==============================] - 33s 369ms/step - loss: 0.6320\n",
            "Epoch 29/30\n",
            "88/88 [==============================] - 33s 369ms/step - loss: 0.5864\n",
            "Epoch 30/30\n",
            "88/88 [==============================] - 34s 383ms/step - loss: 0.5430\n"
          ]
        }
      ],
      "source": [
        "history_LSTM = model_LSTM.fit(dataset, epochs=EPOCHS, callbacks=[checkpoint_callback_LSTM])"
      ]
    },
    {
      "cell_type": "code",
      "source": [
        "history_GRU = model_GRU.fit(dataset, epochs=EPOCHS, callbacks=[checkpoint_callback_GRU])"
      ],
      "metadata": {
        "colab": {
          "base_uri": "https://localhost:8080/"
        },
        "id": "R4J4FKS2YN_B",
        "outputId": "c86b44e7-ada4-43e0-99da-81f7e2b95f7d"
      },
      "execution_count": 49,
      "outputs": [
        {
          "output_type": "stream",
          "name": "stdout",
          "text": [
            "Epoch 1/30\n",
            "88/88 [==============================] - 31s 281ms/step - loss: 2.1307\n",
            "Epoch 2/30\n",
            "88/88 [==============================] - 26s 283ms/step - loss: 1.4681\n",
            "Epoch 3/30\n",
            "88/88 [==============================] - 26s 294ms/step - loss: 1.3128\n",
            "Epoch 4/30\n",
            "88/88 [==============================] - 25s 280ms/step - loss: 1.2247\n",
            "Epoch 5/30\n",
            "88/88 [==============================] - 25s 279ms/step - loss: 1.1418\n",
            "Epoch 6/30\n",
            "88/88 [==============================] - 26s 293ms/step - loss: 1.0469\n",
            "Epoch 7/30\n",
            "88/88 [==============================] - 26s 285ms/step - loss: 0.9538\n",
            "Epoch 8/30\n",
            "88/88 [==============================] - 26s 284ms/step - loss: 0.8895\n",
            "Epoch 9/30\n",
            "88/88 [==============================] - 27s 294ms/step - loss: 0.7737\n",
            "Epoch 10/30\n",
            "88/88 [==============================] - 25s 281ms/step - loss: 0.6889\n",
            "Epoch 11/30\n",
            "88/88 [==============================] - 25s 277ms/step - loss: 0.5760\n",
            "Epoch 12/30\n",
            "88/88 [==============================] - 27s 299ms/step - loss: 0.5143\n",
            "Epoch 13/30\n",
            "88/88 [==============================] - 26s 284ms/step - loss: 0.4166\n",
            "Epoch 14/30\n",
            "88/88 [==============================] - 26s 284ms/step - loss: 0.3338\n",
            "Epoch 15/30\n",
            "88/88 [==============================] - 26s 294ms/step - loss: 0.3112\n",
            "Epoch 16/30\n",
            "88/88 [==============================] - 26s 284ms/step - loss: 0.2781\n",
            "Epoch 17/30\n",
            "88/88 [==============================] - 26s 285ms/step - loss: 0.2367\n",
            "Epoch 18/30\n",
            "88/88 [==============================] - 27s 294ms/step - loss: 0.2570\n",
            "Epoch 19/30\n",
            "88/88 [==============================] - 26s 284ms/step - loss: 0.2343\n",
            "Epoch 20/30\n",
            "88/88 [==============================] - 26s 284ms/step - loss: 0.1947\n",
            "Epoch 21/30\n",
            "88/88 [==============================] - 27s 298ms/step - loss: 0.1788\n",
            "Epoch 22/30\n",
            "88/88 [==============================] - 25s 282ms/step - loss: 0.1659\n",
            "Epoch 23/30\n",
            "88/88 [==============================] - 26s 292ms/step - loss: 0.1544\n",
            "Epoch 24/30\n",
            "88/88 [==============================] - 26s 291ms/step - loss: 0.1442\n",
            "Epoch 25/30\n",
            "88/88 [==============================] - 26s 286ms/step - loss: 0.1372\n",
            "Epoch 26/30\n",
            "88/88 [==============================] - 26s 284ms/step - loss: 0.1313\n",
            "Epoch 27/30\n",
            "88/88 [==============================] - 27s 291ms/step - loss: 0.1261\n",
            "Epoch 28/30\n",
            "88/88 [==============================] - 26s 291ms/step - loss: 0.1229\n",
            "Epoch 29/30\n",
            "88/88 [==============================] - 26s 284ms/step - loss: 0.1191\n",
            "Epoch 30/30\n",
            "88/88 [==============================] - 26s 292ms/step - loss: 0.1164\n"
          ]
        }
      ]
    },
    {
      "cell_type": "markdown",
      "metadata": {
        "id": "kKkD5M6eoSiN"
      },
      "source": [
        "## Generate text"
      ]
    },
    {
      "cell_type": "code",
      "execution_count": 50,
      "metadata": {
        "colab": {
          "base_uri": "https://localhost:8080/",
          "height": 36
        },
        "id": "zk2WJ2-XjkGz",
        "outputId": "0372c21b-c567-4a24-f4a1-07ddcd11ee24"
      },
      "outputs": [
        {
          "output_type": "execute_result",
          "data": {
            "text/plain": [
              "'./training_checkpoints_GRU/GRU_30'"
            ],
            "application/vnd.google.colaboratory.intrinsic+json": {
              "type": "string"
            }
          },
          "metadata": {},
          "execution_count": 50
        }
      ],
      "source": [
        "tf.train.latest_checkpoint(checkpoint_dir_GRU)"
      ]
    },
    {
      "cell_type": "code",
      "source": [
        "tf.train.latest_checkpoint(checkpoint_dir_LSTM)"
      ],
      "metadata": {
        "colab": {
          "base_uri": "https://localhost:8080/",
          "height": 36
        },
        "id": "nEzrm_Yv2xGW",
        "outputId": "ed49dc5c-9f99-4ed8-f522-3f274b9ba991"
      },
      "execution_count": 51,
      "outputs": [
        {
          "output_type": "execute_result",
          "data": {
            "text/plain": [
              "'./training_checkpoints_LSTM/LSTM_30'"
            ],
            "application/vnd.google.colaboratory.intrinsic+json": {
              "type": "string"
            }
          },
          "metadata": {},
          "execution_count": 51
        }
      ]
    },
    {
      "cell_type": "code",
      "source": [
        "model_LSTM = build_model_LSTM(vocab_size, embedding_dim, rnn_units, batch_size=1)\n",
        "model_LSTM.load_weights(tf.train.latest_checkpoint(checkpoint_dir_LSTM))\n",
        "model_LSTM.build(tf.TensorShape([1, None]))"
      ],
      "metadata": {
        "id": "f6ZhqgL2lyG6"
      },
      "execution_count": 52,
      "outputs": []
    },
    {
      "cell_type": "code",
      "execution_count": 53,
      "metadata": {
        "id": "LycQ-ot_jjyu"
      },
      "outputs": [],
      "source": [
        "model_GRU = build_model_GRU(vocab_size, embedding_dim, rnn_units, batch_size=1)\n",
        "model_GRU.load_weights(tf.train.latest_checkpoint(checkpoint_dir_GRU))\n",
        "model_GRU.build(tf.TensorShape([1, None]))"
      ]
    },
    {
      "cell_type": "code",
      "source": [
        "model_LSTM.summary()"
      ],
      "metadata": {
        "id": "4XIjqBLGmCvn",
        "colab": {
          "base_uri": "https://localhost:8080/"
        },
        "outputId": "e30e8970-ea4b-4def-dfc4-17839364dc69"
      },
      "execution_count": 55,
      "outputs": [
        {
          "output_type": "stream",
          "name": "stdout",
          "text": [
            "Model: \"sequential_6\"\n",
            "_________________________________________________________________\n",
            " Layer (type)                Output Shape              Param #   \n",
            "=================================================================\n",
            " embedding_6 (Embedding)     (1, None, 128)            16768     \n",
            "                                                                 \n",
            " lstm_12 (LSTM)              (1, None, 1024)           4722688   \n",
            "                                                                 \n",
            " lstm_13 (LSTM)              (1, None, 1024)           8392704   \n",
            "                                                                 \n",
            " lstm_14 (LSTM)              (1, None, 1024)           8392704   \n",
            "                                                                 \n",
            " lstm_15 (LSTM)              (1, None, 1024)           8392704   \n",
            "                                                                 \n",
            " dense_6 (Dense)             (1, None, 131)            134275    \n",
            "                                                                 \n",
            "=================================================================\n",
            "Total params: 30,051,843\n",
            "Trainable params: 30,051,843\n",
            "Non-trainable params: 0\n",
            "_________________________________________________________________\n"
          ]
        }
      ]
    },
    {
      "cell_type": "code",
      "execution_count": 56,
      "metadata": {
        "colab": {
          "base_uri": "https://localhost:8080/"
        },
        "id": "71xa6jnYVrAN",
        "outputId": "569aee0d-81cd-42d9-dcb2-93d079222352"
      },
      "outputs": [
        {
          "output_type": "stream",
          "name": "stdout",
          "text": [
            "Model: \"sequential_7\"\n",
            "_________________________________________________________________\n",
            " Layer (type)                Output Shape              Param #   \n",
            "=================================================================\n",
            " embedding_7 (Embedding)     (None, None, 128)         16768     \n",
            "                                                                 \n",
            " gru_11 (GRU)                (None, None, 1024)        3545088   \n",
            "                                                                 \n",
            " gru_12 (GRU)                (None, None, 1024)        6297600   \n",
            "                                                                 \n",
            " gru_13 (GRU)                (None, None, 1024)        6297600   \n",
            "                                                                 \n",
            " gru_14 (GRU)                (None, None, 1024)        6297600   \n",
            "                                                                 \n",
            " dense_7 (Dense)             (None, None, 131)         134275    \n",
            "                                                                 \n",
            "=================================================================\n",
            "Total params: 22,588,931\n",
            "Trainable params: 22,588,931\n",
            "Non-trainable params: 0\n",
            "_________________________________________________________________\n"
          ]
        }
      ],
      "source": [
        "model_GRU.summary()"
      ]
    },
    {
      "cell_type": "code",
      "execution_count": 57,
      "metadata": {
        "id": "WvuwZBX5Ogfd"
      },
      "outputs": [],
      "source": [
        "def generate_text(model, start_string):\n",
        "    # Evaluation step (generating text using the learned model)\n",
        "\n",
        "    # Number of characters to generate\n",
        "    num_generate = 500\n",
        "\n",
        "    # Converting our start string to numbers (vectorizing)\n",
        "    input_eval = [char2idx[s] for s in start_string]\n",
        "    input_eval = tf.expand_dims(input_eval, 0)\n",
        "\n",
        "    # Empty string to store our results\n",
        "    text_generated = []\n",
        "\n",
        "    # Low temperature results in more predictable text.\n",
        "    # Higher temperature results in more surprising text.\n",
        "    # Experiment to find the best setting.\n",
        "    temperature = 0.5\n",
        "\n",
        "    # Here batch size == 1\n",
        "    model.reset_states()\n",
        "    for i in range(num_generate):\n",
        "        predictions = model(input_eval)\n",
        "        predictions = tf.squeeze(predictions, 0)\n",
        "        # using a categorical distribution to predict the character returned by the model\n",
        "        predictions = predictions / temperature\n",
        "        predicted_id = tf.random.categorical(predictions, num_samples=1)[-1, 0].numpy()\n",
        "\n",
        "        # Pass the predicted character as the next input to the model\n",
        "        # along with the previous hidden state\n",
        "        input_eval = tf.expand_dims([predicted_id], 0)\n",
        "\n",
        "        text_generated.append(idx2char[predicted_id])\n",
        "\n",
        "    return (start_string + ''.join(text_generated))"
      ]
    },
    {
      "cell_type": "code",
      "execution_count": 58,
      "metadata": {
        "colab": {
          "base_uri": "https://localhost:8080/"
        },
        "id": "ktovv0RFhrkn",
        "outputId": "32ac994a-bcc2-4312-eb7d-037c70d24aae"
      },
      "outputs": [
        {
          "output_type": "stream",
          "name": "stdout",
          "text": [
            "Мой дядя самых честных грам,\n",
            "                        В тоске сердечных исталая;\n",
            "                        Так неприступны для мужчин,\n",
            "                        Покойный сон;\n",
            "                                                                                                                                                                                                                                                                                                                                                                 \n"
          ]
        }
      ],
      "source": [
        "text_ = generate_text(model_LSTM, start_string=u\"Мой дядя самых честных \")\n",
        "print(text_)"
      ]
    },
    {
      "cell_type": "code",
      "execution_count": 59,
      "metadata": {
        "colab": {
          "base_uri": "https://localhost:8080/"
        },
        "id": "4wqVniuFpofL",
        "outputId": "d02316d2-7063-49ff-fcd9-3249010908a2"
      },
      "outputs": [
        {
          "output_type": "execute_result",
          "data": {
            "text/plain": [
              "523"
            ]
          },
          "metadata": {},
          "execution_count": 59
        }
      ],
      "source": [
        "len(text_)"
      ]
    },
    {
      "cell_type": "code",
      "execution_count": 60,
      "metadata": {
        "id": "hjuhCdppiVqy",
        "colab": {
          "base_uri": "https://localhost:8080/"
        },
        "outputId": "ee087e4f-bee6-4c14-b4c2-c0fd608cdb53"
      },
      "outputs": [
        {
          "output_type": "stream",
          "name": "stdout",
          "text": [
            "Мой дядя самых честных певи                                                                                                                                                                                                                                                                                                                                                                                                                                                                                                                \n"
          ]
        }
      ],
      "source": [
        "text_ = generate_text(model_GRU, start_string=u\"Мой дядя самых честных \")\n",
        "print(text_)"
      ]
    },
    {
      "cell_type": "code",
      "source": [
        "len(text_)"
      ],
      "metadata": {
        "id": "dSGqf_xvmMBo",
        "colab": {
          "base_uri": "https://localhost:8080/"
        },
        "outputId": "affd437b-affd-493b-b7a6-29fc25ac1be4"
      },
      "execution_count": 61,
      "outputs": [
        {
          "output_type": "execute_result",
          "data": {
            "text/plain": [
              "523"
            ]
          },
          "metadata": {},
          "execution_count": 61
        }
      ]
    }
  ],
  "metadata": {
    "accelerator": "GPU",
    "colab": {
      "provenance": []
    },
    "kernelspec": {
      "display_name": "Python 3",
      "language": "python",
      "name": "python3"
    },
    "language_info": {
      "codemirror_mode": {
        "name": "ipython",
        "version": 3
      },
      "file_extension": ".py",
      "mimetype": "text/x-python",
      "name": "python",
      "nbconvert_exporter": "python",
      "pygments_lexer": "ipython3",
      "version": "3.8.8"
    }
  },
  "nbformat": 4,
  "nbformat_minor": 0
}