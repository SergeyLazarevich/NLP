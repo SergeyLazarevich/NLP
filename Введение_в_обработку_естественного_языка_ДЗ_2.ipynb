{
  "nbformat": 4,
  "nbformat_minor": 0,
  "metadata": {
    "colab": {
      "provenance": [],
      "collapsed_sections": []
    },
    "kernelspec": {
      "name": "python3",
      "display_name": "Python 3"
    },
    "language_info": {
      "name": "python"
    }
  },
  "cells": [
    {
      "cell_type": "code",
      "source": [
        "import numpy as np \n",
        "import pandas as pd\n",
        "from pathlib import Path\n",
        "import matplotlib.pyplot as plt\n",
        "\n",
        "import warnings\n",
        "warnings.simplefilter(action='ignore', category=FutureWarning)\n",
        "\n",
        "from sklearn.feature_extraction.text import CountVectorizer\n",
        "from sklearn.feature_extraction.text import TfidfVectorizer\n",
        "\n",
        "from sklearn import model_selection, preprocessing, linear_model\n",
        "from sklearn.metrics import accuracy_score\n",
        "from sklearn.decomposition import PCA"
      ],
      "metadata": {
        "id": "al0F8NFTFKAw"
      },
      "execution_count": 1,
      "outputs": []
    },
    {
      "cell_type": "code",
      "source": [
        "DATA_ROOT = Path('/content/drive/Othercomputers/Мое устройство Компьютер/Google.Disk/Colab Notebooks/data/')\n",
        "TRAIN_PATH = DATA_ROOT /'train_tweets_token.csv'\n",
        "\n",
        "df_train = pd.read_csv(TRAIN_PATH, sep=',')\n",
        "df_train.info()"
      ],
      "metadata": {
        "colab": {
          "base_uri": "https://localhost:8080/"
        },
        "id": "tSIjPk96FSoE",
        "outputId": "dd59eeaa-daa6-4677-aa68-af673dc37467"
      },
      "execution_count": 2,
      "outputs": [
        {
          "output_type": "stream",
          "name": "stdout",
          "text": [
            "<class 'pandas.core.frame.DataFrame'>\n",
            "RangeIndex: 31962 entries, 0 to 31961\n",
            "Data columns (total 7 columns):\n",
            " #   Column                Non-Null Count  Dtype \n",
            "---  ------                --------------  ----- \n",
            " 0   id                    31962 non-null  int64 \n",
            " 1   label                 31962 non-null  int64 \n",
            " 2   tweet                 31959 non-null  object\n",
            " 3   tweet_token           31962 non-null  object\n",
            " 4   tweet_token_filtered  31962 non-null  object\n",
            " 5   tweet_stemmed         31962 non-null  object\n",
            " 6   tweet_lemmatized      31962 non-null  object\n",
            "dtypes: int64(2), object(5)\n",
            "memory usage: 1.7+ MB\n"
          ]
        }
      ]
    },
    {
      "cell_type": "markdown",
      "source": [
        "#Тема «Создание признакового пространства»\n",
        "Продолжим обработку данных с Твиттера."
      ],
      "metadata": {
        "id": "t3hn9jiKCJUW"
      }
    },
    {
      "cell_type": "markdown",
      "source": [
        "1. Создайте мешок слов с помощью sklearn.feature_extraction.text.CountVectorizer.fit_transform(). Применим его к 'tweet_stemmed' и 'tweet_lemmatized' отдельно.\n",
        "- Игнорируем слова, частота которых в документе строго превышает порог 0.9 с\n",
        "помощью max_df.\n",
        "- Ограничим количество слов, попадающий в мешок, с помощью max_features = 1000.\n",
        "- Исключим стоп-слова с помощью stop_words='english'.\n",
        "- Отобразим Bag-of-Words модель как DataFrame. columns необходимо извлечь с помощью CountVectorizer.get_feature_names().\n"
      ],
      "metadata": {
        "id": "XQXYr0OWCDJn"
      }
    },
    {
      "cell_type": "code",
      "source": [
        "def feature_extract(data, model_vectorizer):\n",
        "    # Создаем модель\n",
        "    vectorizer = model_vectorizer.fit_transform(data)\n",
        "\n",
        "    # Отобразим Bag-of-Words модель как DataFrame\n",
        "    feature_names = model_vectorizer.get_feature_names_out()\n",
        "    vectorizer = pd.DataFrame(vectorizer.toarray(), columns = feature_names)\n",
        "\n",
        "    return vectorizer"
      ],
      "metadata": {
        "id": "-sFMiQRxOxI3"
      },
      "execution_count": 3,
      "outputs": []
    },
    {
      "cell_type": "code",
      "execution_count": 4,
      "metadata": {
        "id": "H6OcTupICA3g",
        "colab": {
          "base_uri": "https://localhost:8080/"
        },
        "outputId": "83d13162-dc59-413d-d842-519a5fc4b59b"
      },
      "outputs": [
        {
          "output_type": "execute_result",
          "data": {
            "text/plain": [
              "((31962, 1000), (31962, 1000))"
            ]
          },
          "metadata": {},
          "execution_count": 4
        }
      ],
      "source": [
        "count_vectorizer = CountVectorizer(max_df=0.9, max_features=1000, stop_words='english')\n",
        "\n",
        "#'tweet_stemmed' \n",
        "# Отобразим Bag-of-Words модель как DataFrame\n",
        "tweet_stemmed_bag_of_words = feature_extract(df_train['tweet_stemmed'], count_vectorizer)\n",
        "\n",
        "#'tweet_lemmatized' \n",
        "# Отобразим CountVectorizer модель как DataFrame\n",
        "tweet_lemmatized_bag_of_words = feature_extract(df_train['tweet_lemmatized'], count_vectorizer)\n",
        "\n",
        "\n",
        "tweet_stemmed_bag_of_words.shape, tweet_lemmatized_bag_of_words.shape"
      ]
    },
    {
      "cell_type": "markdown",
      "source": [
        "2. Создайте мешок слов с помощью sklearn.feature_extraction.text.TfidfVectorizer.fit_transform(). Применим его к 'tweet_stemmed' и\n",
        "'tweet_lemmatized' отдельно.\n",
        "- Игнорируем слова, частота которых в документе строго превышает порог 0.9 с\n",
        "помощью max_df.\n",
        "- Ограничим количество слов, попадающий в мешок, с помощью max_features = 1000.\n",
        "- Исключим стоп-слова с помощью stop_words='english'.\n",
        "- Отобразим Bag-of-Words модель как DataFrame. columns необходимо извлечь с\n",
        "помощью TfidfVectorizer.get_feature_names().\n"
      ],
      "metadata": {
        "id": "LhxYVzy4CsJi"
      }
    },
    {
      "cell_type": "code",
      "source": [
        "#'tweet_stemmed' \n",
        "tfidf_vectorizer = TfidfVectorizer(max_df=0.9, max_features=1000, stop_words='english')\n",
        "\n",
        "#'tweet_stemmed' \n",
        "# Отобразим Bag-of-Words модель как DataFrame\n",
        "tweet_stemmed_vectorizer = feature_extract(df_train['tweet_stemmed'], tfidf_vectorizer)\n",
        "\n",
        "#'tweet_lemmatized' \n",
        "# Отобразим CountVectorizer модель как DataFrame\n",
        "tweet_lemmatized_vectorizer = feature_extract(df_train['tweet_lemmatized'], tfidf_vectorizer)\n",
        "\n",
        "\n",
        "tweet_stemmed_vectorizer.shape, tweet_lemmatized_vectorizer.shape"
      ],
      "metadata": {
        "id": "FQgzJl8GCu1C",
        "colab": {
          "base_uri": "https://localhost:8080/"
        },
        "outputId": "a10fae79-ab61-4746-935f-6eb9311f6cce"
      },
      "execution_count": 5,
      "outputs": [
        {
          "output_type": "execute_result",
          "data": {
            "text/plain": [
              "((31962, 1000), (31962, 1000))"
            ]
          },
          "metadata": {},
          "execution_count": 5
        }
      ]
    },
    {
      "cell_type": "markdown",
      "source": [
        "3. Проверьте ваши векторайзеры на корпусе который использовали на вебинаре, составьте таблицу метод векторизации и скор который вы получили (в методах векторизации по изменяйте параметры что бы добиться лучшего скора) обратите внимание как падает/растёт скор при уменьшении количества фичей, и изменении параметров, так же попробуйте применить к векторайзерам PCA для сокращения размерности посмотрите на качество сделайте выводы."
      ],
      "metadata": {
        "id": "KE6OOPFDCvHy"
      }
    },
    {
      "cell_type": "markdown",
      "source": [
        "CountVectorizer"
      ],
      "metadata": {
        "id": "RU-I38aNpU6e"
      }
    },
    {
      "cell_type": "code",
      "source": [
        "# массив для ошибок, чтобы потом построить график\n",
        "array_errors = pd.DataFrame(columns=['max_features', 'accuracy'])\n",
        "\n",
        "tweet = 'tweet_lemmatized'\n",
        "\n",
        "train_x, valid_x, train_y, valid_y = model_selection.train_test_split(df_train[tweet], df_train['label'])\n",
        "\n",
        "for i in np.arange(100, 1001, 50):\n",
        "    \n",
        "    vect = CountVectorizer(max_df=0.9, max_features=i, stop_words='english')\n",
        "    vect.fit(df_train[tweet])\n",
        "\n",
        "    xtrain_count =  vect.transform(train_x)\n",
        "    xvalid_count =  vect.transform(valid_x)\n",
        "\n",
        "    classifier = linear_model.LogisticRegression()\n",
        "    classifier.fit(xtrain_count, train_y)\n",
        "    predictions = classifier.predict(xvalid_count)\n",
        "\n",
        "    array_errors = array_errors.append({'max_features': i, 'accuracy': round(accuracy_score(valid_y, predictions)*100,2)}, ignore_index=True)"
      ],
      "metadata": {
        "id": "jqBdux0NCwOi"
      },
      "execution_count": 6,
      "outputs": []
    },
    {
      "cell_type": "code",
      "source": [
        "array_errors.sort_values(by=['accuracy'], ascending=False)"
      ],
      "metadata": {
        "colab": {
          "base_uri": "https://localhost:8080/",
          "height": 645
        },
        "id": "hhUsJebEmwyQ",
        "outputId": "b5f1cc1f-aab0-464f-f823-1ba7084d916d"
      },
      "execution_count": 7,
      "outputs": [
        {
          "output_type": "execute_result",
          "data": {
            "text/plain": [
              "    max_features  accuracy\n",
              "18        1000.0     94.77\n",
              "14         800.0     94.73\n",
              "10         600.0     94.71\n",
              "8          500.0     94.68\n",
              "9          550.0     94.68\n",
              "15         850.0     94.66\n",
              "11         650.0     94.64\n",
              "17         950.0     94.64\n",
              "12         700.0     94.63\n",
              "13         750.0     94.63\n",
              "16         900.0     94.63\n",
              "7          450.0     94.48\n",
              "6          400.0     94.37\n",
              "5          350.0     94.16\n",
              "4          300.0     94.16\n",
              "3          250.0     93.96\n",
              "2          200.0     93.44\n",
              "1          150.0     93.36\n",
              "0          100.0     93.14"
            ],
            "text/html": [
              "\n",
              "  <div id=\"df-d6919e79-de09-4e12-9594-5192c20cce45\">\n",
              "    <div class=\"colab-df-container\">\n",
              "      <div>\n",
              "<style scoped>\n",
              "    .dataframe tbody tr th:only-of-type {\n",
              "        vertical-align: middle;\n",
              "    }\n",
              "\n",
              "    .dataframe tbody tr th {\n",
              "        vertical-align: top;\n",
              "    }\n",
              "\n",
              "    .dataframe thead th {\n",
              "        text-align: right;\n",
              "    }\n",
              "</style>\n",
              "<table border=\"1\" class=\"dataframe\">\n",
              "  <thead>\n",
              "    <tr style=\"text-align: right;\">\n",
              "      <th></th>\n",
              "      <th>max_features</th>\n",
              "      <th>accuracy</th>\n",
              "    </tr>\n",
              "  </thead>\n",
              "  <tbody>\n",
              "    <tr>\n",
              "      <th>18</th>\n",
              "      <td>1000.0</td>\n",
              "      <td>94.77</td>\n",
              "    </tr>\n",
              "    <tr>\n",
              "      <th>14</th>\n",
              "      <td>800.0</td>\n",
              "      <td>94.73</td>\n",
              "    </tr>\n",
              "    <tr>\n",
              "      <th>10</th>\n",
              "      <td>600.0</td>\n",
              "      <td>94.71</td>\n",
              "    </tr>\n",
              "    <tr>\n",
              "      <th>8</th>\n",
              "      <td>500.0</td>\n",
              "      <td>94.68</td>\n",
              "    </tr>\n",
              "    <tr>\n",
              "      <th>9</th>\n",
              "      <td>550.0</td>\n",
              "      <td>94.68</td>\n",
              "    </tr>\n",
              "    <tr>\n",
              "      <th>15</th>\n",
              "      <td>850.0</td>\n",
              "      <td>94.66</td>\n",
              "    </tr>\n",
              "    <tr>\n",
              "      <th>11</th>\n",
              "      <td>650.0</td>\n",
              "      <td>94.64</td>\n",
              "    </tr>\n",
              "    <tr>\n",
              "      <th>17</th>\n",
              "      <td>950.0</td>\n",
              "      <td>94.64</td>\n",
              "    </tr>\n",
              "    <tr>\n",
              "      <th>12</th>\n",
              "      <td>700.0</td>\n",
              "      <td>94.63</td>\n",
              "    </tr>\n",
              "    <tr>\n",
              "      <th>13</th>\n",
              "      <td>750.0</td>\n",
              "      <td>94.63</td>\n",
              "    </tr>\n",
              "    <tr>\n",
              "      <th>16</th>\n",
              "      <td>900.0</td>\n",
              "      <td>94.63</td>\n",
              "    </tr>\n",
              "    <tr>\n",
              "      <th>7</th>\n",
              "      <td>450.0</td>\n",
              "      <td>94.48</td>\n",
              "    </tr>\n",
              "    <tr>\n",
              "      <th>6</th>\n",
              "      <td>400.0</td>\n",
              "      <td>94.37</td>\n",
              "    </tr>\n",
              "    <tr>\n",
              "      <th>5</th>\n",
              "      <td>350.0</td>\n",
              "      <td>94.16</td>\n",
              "    </tr>\n",
              "    <tr>\n",
              "      <th>4</th>\n",
              "      <td>300.0</td>\n",
              "      <td>94.16</td>\n",
              "    </tr>\n",
              "    <tr>\n",
              "      <th>3</th>\n",
              "      <td>250.0</td>\n",
              "      <td>93.96</td>\n",
              "    </tr>\n",
              "    <tr>\n",
              "      <th>2</th>\n",
              "      <td>200.0</td>\n",
              "      <td>93.44</td>\n",
              "    </tr>\n",
              "    <tr>\n",
              "      <th>1</th>\n",
              "      <td>150.0</td>\n",
              "      <td>93.36</td>\n",
              "    </tr>\n",
              "    <tr>\n",
              "      <th>0</th>\n",
              "      <td>100.0</td>\n",
              "      <td>93.14</td>\n",
              "    </tr>\n",
              "  </tbody>\n",
              "</table>\n",
              "</div>\n",
              "      <button class=\"colab-df-convert\" onclick=\"convertToInteractive('df-d6919e79-de09-4e12-9594-5192c20cce45')\"\n",
              "              title=\"Convert this dataframe to an interactive table.\"\n",
              "              style=\"display:none;\">\n",
              "        \n",
              "  <svg xmlns=\"http://www.w3.org/2000/svg\" height=\"24px\"viewBox=\"0 0 24 24\"\n",
              "       width=\"24px\">\n",
              "    <path d=\"M0 0h24v24H0V0z\" fill=\"none\"/>\n",
              "    <path d=\"M18.56 5.44l.94 2.06.94-2.06 2.06-.94-2.06-.94-.94-2.06-.94 2.06-2.06.94zm-11 1L8.5 8.5l.94-2.06 2.06-.94-2.06-.94L8.5 2.5l-.94 2.06-2.06.94zm10 10l.94 2.06.94-2.06 2.06-.94-2.06-.94-.94-2.06-.94 2.06-2.06.94z\"/><path d=\"M17.41 7.96l-1.37-1.37c-.4-.4-.92-.59-1.43-.59-.52 0-1.04.2-1.43.59L10.3 9.45l-7.72 7.72c-.78.78-.78 2.05 0 2.83L4 21.41c.39.39.9.59 1.41.59.51 0 1.02-.2 1.41-.59l7.78-7.78 2.81-2.81c.8-.78.8-2.07 0-2.86zM5.41 20L4 18.59l7.72-7.72 1.47 1.35L5.41 20z\"/>\n",
              "  </svg>\n",
              "      </button>\n",
              "      \n",
              "  <style>\n",
              "    .colab-df-container {\n",
              "      display:flex;\n",
              "      flex-wrap:wrap;\n",
              "      gap: 12px;\n",
              "    }\n",
              "\n",
              "    .colab-df-convert {\n",
              "      background-color: #E8F0FE;\n",
              "      border: none;\n",
              "      border-radius: 50%;\n",
              "      cursor: pointer;\n",
              "      display: none;\n",
              "      fill: #1967D2;\n",
              "      height: 32px;\n",
              "      padding: 0 0 0 0;\n",
              "      width: 32px;\n",
              "    }\n",
              "\n",
              "    .colab-df-convert:hover {\n",
              "      background-color: #E2EBFA;\n",
              "      box-shadow: 0px 1px 2px rgba(60, 64, 67, 0.3), 0px 1px 3px 1px rgba(60, 64, 67, 0.15);\n",
              "      fill: #174EA6;\n",
              "    }\n",
              "\n",
              "    [theme=dark] .colab-df-convert {\n",
              "      background-color: #3B4455;\n",
              "      fill: #D2E3FC;\n",
              "    }\n",
              "\n",
              "    [theme=dark] .colab-df-convert:hover {\n",
              "      background-color: #434B5C;\n",
              "      box-shadow: 0px 1px 3px 1px rgba(0, 0, 0, 0.15);\n",
              "      filter: drop-shadow(0px 1px 2px rgba(0, 0, 0, 0.3));\n",
              "      fill: #FFFFFF;\n",
              "    }\n",
              "  </style>\n",
              "\n",
              "      <script>\n",
              "        const buttonEl =\n",
              "          document.querySelector('#df-d6919e79-de09-4e12-9594-5192c20cce45 button.colab-df-convert');\n",
              "        buttonEl.style.display =\n",
              "          google.colab.kernel.accessAllowed ? 'block' : 'none';\n",
              "\n",
              "        async function convertToInteractive(key) {\n",
              "          const element = document.querySelector('#df-d6919e79-de09-4e12-9594-5192c20cce45');\n",
              "          const dataTable =\n",
              "            await google.colab.kernel.invokeFunction('convertToInteractive',\n",
              "                                                     [key], {});\n",
              "          if (!dataTable) return;\n",
              "\n",
              "          const docLinkHtml = 'Like what you see? Visit the ' +\n",
              "            '<a target=\"_blank\" href=https://colab.research.google.com/notebooks/data_table.ipynb>data table notebook</a>'\n",
              "            + ' to learn more about interactive tables.';\n",
              "          element.innerHTML = '';\n",
              "          dataTable['output_type'] = 'display_data';\n",
              "          await google.colab.output.renderOutput(dataTable, element);\n",
              "          const docLink = document.createElement('div');\n",
              "          docLink.innerHTML = docLinkHtml;\n",
              "          element.appendChild(docLink);\n",
              "        }\n",
              "      </script>\n",
              "    </div>\n",
              "  </div>\n",
              "  "
            ]
          },
          "metadata": {},
          "execution_count": 7
        }
      ]
    },
    {
      "cell_type": "code",
      "source": [
        "# черчение диаграммы точности в зависимости от обучения\n",
        "plt.figure(figsize = (16,5))\n",
        "plt.plot(array_errors['max_features'], array_errors['accuracy'], label = 'Accuracy')\n",
        "plt.xlabel('max_features')\n",
        "plt.ylabel('Ошибка')\n",
        "plt.grid()\n",
        "plt.legend()\n",
        "plt.show()"
      ],
      "metadata": {
        "colab": {
          "base_uri": "https://localhost:8080/",
          "height": 335
        },
        "id": "iuTSWb6bWXed",
        "outputId": "d2eb0813-9906-4ba8-8d95-5e5397e779fc"
      },
      "execution_count": 8,
      "outputs": [
        {
          "output_type": "display_data",
          "data": {
            "text/plain": [
              "<Figure size 1152x360 with 1 Axes>"
            ],
            "image/png": "[encoded data removed]"
          },
          "metadata": {
            "needs_background": "light"
          }
        }
      ]
    },
    {
      "cell_type": "markdown",
      "source": [
        "TfidfVectorizer"
      ],
      "metadata": {
        "id": "pujgByoopYNk"
      }
    },
    {
      "cell_type": "code",
      "source": [
        "# массив для ошибок, чтобы потом построить график\n",
        "array_errors = pd.DataFrame(columns=['max_features', 'accuracy'])\n",
        "\n",
        "tweet = 'tweet_lemmatized'\n",
        "\n",
        "train_x, valid_x, train_y, valid_y = model_selection.train_test_split(df_train[tweet], df_train['label'])\n",
        "\n",
        "for i in np.arange(100, 1001, 50):\n",
        "    \n",
        "    vect = TfidfVectorizer(max_df=0.9, max_features=i, stop_words='english')\n",
        "    vect.fit(df_train[tweet])\n",
        "\n",
        "    xtrain_count =  vect.transform(train_x)\n",
        "    xvalid_count =  vect.transform(valid_x)\n",
        "\n",
        "    classifier = linear_model.LogisticRegression()\n",
        "    classifier.fit(xtrain_count, train_y)\n",
        "    predictions = classifier.predict(xvalid_count)\n",
        "\n",
        "    array_errors = array_errors.append({'max_features': i, 'accuracy': round(accuracy_score(valid_y, predictions)*100,2)}, ignore_index=True)"
      ],
      "metadata": {
        "id": "QkTVBvlCpXwr"
      },
      "execution_count": 9,
      "outputs": []
    },
    {
      "cell_type": "code",
      "source": [
        "array_errors.sort_values(by=['accuracy'], ascending=False)"
      ],
      "metadata": {
        "colab": {
          "base_uri": "https://localhost:8080/",
          "height": 645
        },
        "id": "wsroJ68mpn10",
        "outputId": "453454da-6ec9-4927-c80e-0495bfbc4d5e"
      },
      "execution_count": 10,
      "outputs": [
        {
          "output_type": "execute_result",
          "data": {
            "text/plain": [
              "    max_features  accuracy\n",
              "16         900.0     94.86\n",
              "15         850.0     94.84\n",
              "18        1000.0     94.83\n",
              "14         800.0     94.83\n",
              "13         750.0     94.83\n",
              "17         950.0     94.82\n",
              "12         700.0     94.77\n",
              "8          500.0     94.76\n",
              "11         650.0     94.73\n",
              "9          550.0     94.73\n",
              "10         600.0     94.71\n",
              "6          400.0     94.51\n",
              "7          450.0     94.49\n",
              "5          350.0     94.29\n",
              "4          300.0     94.27\n",
              "3          250.0     94.16\n",
              "1          150.0     93.74\n",
              "2          200.0     93.72\n",
              "0          100.0     93.43"
            ],
            "text/html": [
              "\n",
              "  <div id=\"df-39faa230-5d89-4c1b-b8a5-b877fb7aaf90\">\n",
              "    <div class=\"colab-df-container\">\n",
              "      <div>\n",
              "<style scoped>\n",
              "    .dataframe tbody tr th:only-of-type {\n",
              "        vertical-align: middle;\n",
              "    }\n",
              "\n",
              "    .dataframe tbody tr th {\n",
              "        vertical-align: top;\n",
              "    }\n",
              "\n",
              "    .dataframe thead th {\n",
              "        text-align: right;\n",
              "    }\n",
              "</style>\n",
              "<table border=\"1\" class=\"dataframe\">\n",
              "  <thead>\n",
              "    <tr style=\"text-align: right;\">\n",
              "      <th></th>\n",
              "      <th>max_features</th>\n",
              "      <th>accuracy</th>\n",
              "    </tr>\n",
              "  </thead>\n",
              "  <tbody>\n",
              "    <tr>\n",
              "      <th>16</th>\n",
              "      <td>900.0</td>\n",
              "      <td>94.86</td>\n",
              "    </tr>\n",
              "    <tr>\n",
              "      <th>15</th>\n",
              "      <td>850.0</td>\n",
              "      <td>94.84</td>\n",
              "    </tr>\n",
              "    <tr>\n",
              "      <th>18</th>\n",
              "      <td>1000.0</td>\n",
              "      <td>94.83</td>\n",
              "    </tr>\n",
              "    <tr>\n",
              "      <th>14</th>\n",
              "      <td>800.0</td>\n",
              "      <td>94.83</td>\n",
              "    </tr>\n",
              "    <tr>\n",
              "      <th>13</th>\n",
              "      <td>750.0</td>\n",
              "      <td>94.83</td>\n",
              "    </tr>\n",
              "    <tr>\n",
              "      <th>17</th>\n",
              "      <td>950.0</td>\n",
              "      <td>94.82</td>\n",
              "    </tr>\n",
              "    <tr>\n",
              "      <th>12</th>\n",
              "      <td>700.0</td>\n",
              "      <td>94.77</td>\n",
              "    </tr>\n",
              "    <tr>\n",
              "      <th>8</th>\n",
              "      <td>500.0</td>\n",
              "      <td>94.76</td>\n",
              "    </tr>\n",
              "    <tr>\n",
              "      <th>11</th>\n",
              "      <td>650.0</td>\n",
              "      <td>94.73</td>\n",
              "    </tr>\n",
              "    <tr>\n",
              "      <th>9</th>\n",
              "      <td>550.0</td>\n",
              "      <td>94.73</td>\n",
              "    </tr>\n",
              "    <tr>\n",
              "      <th>10</th>\n",
              "      <td>600.0</td>\n",
              "      <td>94.71</td>\n",
              "    </tr>\n",
              "    <tr>\n",
              "      <th>6</th>\n",
              "      <td>400.0</td>\n",
              "      <td>94.51</td>\n",
              "    </tr>\n",
              "    <tr>\n",
              "      <th>7</th>\n",
              "      <td>450.0</td>\n",
              "      <td>94.49</td>\n",
              "    </tr>\n",
              "    <tr>\n",
              "      <th>5</th>\n",
              "      <td>350.0</td>\n",
              "      <td>94.29</td>\n",
              "    </tr>\n",
              "    <tr>\n",
              "      <th>4</th>\n",
              "      <td>300.0</td>\n",
              "      <td>94.27</td>\n",
              "    </tr>\n",
              "    <tr>\n",
              "      <th>3</th>\n",
              "      <td>250.0</td>\n",
              "      <td>94.16</td>\n",
              "    </tr>\n",
              "    <tr>\n",
              "      <th>1</th>\n",
              "      <td>150.0</td>\n",
              "      <td>93.74</td>\n",
              "    </tr>\n",
              "    <tr>\n",
              "      <th>2</th>\n",
              "      <td>200.0</td>\n",
              "      <td>93.72</td>\n",
              "    </tr>\n",
              "    <tr>\n",
              "      <th>0</th>\n",
              "      <td>100.0</td>\n",
              "      <td>93.43</td>\n",
              "    </tr>\n",
              "  </tbody>\n",
              "</table>\n",
              "</div>\n",
              "      <button class=\"colab-df-convert\" onclick=\"convertToInteractive('df-39faa230-5d89-4c1b-b8a5-b877fb7aaf90')\"\n",
              "              title=\"Convert this dataframe to an interactive table.\"\n",
              "              style=\"display:none;\">\n",
              "        \n",
              "  <svg xmlns=\"http://www.w3.org/2000/svg\" height=\"24px\"viewBox=\"0 0 24 24\"\n",
              "       width=\"24px\">\n",
              "    <path d=\"M0 0h24v24H0V0z\" fill=\"none\"/>\n",
              "    <path d=\"M18.56 5.44l.94 2.06.94-2.06 2.06-.94-2.06-.94-.94-2.06-.94 2.06-2.06.94zm-11 1L8.5 8.5l.94-2.06 2.06-.94-2.06-.94L8.5 2.5l-.94 2.06-2.06.94zm10 10l.94 2.06.94-2.06 2.06-.94-2.06-.94-.94-2.06-.94 2.06-2.06.94z\"/><path d=\"M17.41 7.96l-1.37-1.37c-.4-.4-.92-.59-1.43-.59-.52 0-1.04.2-1.43.59L10.3 9.45l-7.72 7.72c-.78.78-.78 2.05 0 2.83L4 21.41c.39.39.9.59 1.41.59.51 0 1.02-.2 1.41-.59l7.78-7.78 2.81-2.81c.8-.78.8-2.07 0-2.86zM5.41 20L4 18.59l7.72-7.72 1.47 1.35L5.41 20z\"/>\n",
              "  </svg>\n",
              "      </button>\n",
              "      \n",
              "  <style>\n",
              "    .colab-df-container {\n",
              "      display:flex;\n",
              "      flex-wrap:wrap;\n",
              "      gap: 12px;\n",
              "    }\n",
              "\n",
              "    .colab-df-convert {\n",
              "      background-color: #E8F0FE;\n",
              "      border: none;\n",
              "      border-radius: 50%;\n",
              "      cursor: pointer;\n",
              "      display: none;\n",
              "      fill: #1967D2;\n",
              "      height: 32px;\n",
              "      padding: 0 0 0 0;\n",
              "      width: 32px;\n",
              "    }\n",
              "\n",
              "    .colab-df-convert:hover {\n",
              "      background-color: #E2EBFA;\n",
              "      box-shadow: 0px 1px 2px rgba(60, 64, 67, 0.3), 0px 1px 3px 1px rgba(60, 64, 67, 0.15);\n",
              "      fill: #174EA6;\n",
              "    }\n",
              "\n",
              "    [theme=dark] .colab-df-convert {\n",
              "      background-color: #3B4455;\n",
              "      fill: #D2E3FC;\n",
              "    }\n",
              "\n",
              "    [theme=dark] .colab-df-convert:hover {\n",
              "      background-color: #434B5C;\n",
              "      box-shadow: 0px 1px 3px 1px rgba(0, 0, 0, 0.15);\n",
              "      filter: drop-shadow(0px 1px 2px rgba(0, 0, 0, 0.3));\n",
              "      fill: #FFFFFF;\n",
              "    }\n",
              "  </style>\n",
              "\n",
              "      <script>\n",
              "        const buttonEl =\n",
              "          document.querySelector('#df-39faa230-5d89-4c1b-b8a5-b877fb7aaf90 button.colab-df-convert');\n",
              "        buttonEl.style.display =\n",
              "          google.colab.kernel.accessAllowed ? 'block' : 'none';\n",
              "\n",
              "        async function convertToInteractive(key) {\n",
              "          const element = document.querySelector('#df-39faa230-5d89-4c1b-b8a5-b877fb7aaf90');\n",
              "          const dataTable =\n",
              "            await google.colab.kernel.invokeFunction('convertToInteractive',\n",
              "                                                     [key], {});\n",
              "          if (!dataTable) return;\n",
              "\n",
              "          const docLinkHtml = 'Like what you see? Visit the ' +\n",
              "            '<a target=\"_blank\" href=https://colab.research.google.com/notebooks/data_table.ipynb>data table notebook</a>'\n",
              "            + ' to learn more about interactive tables.';\n",
              "          element.innerHTML = '';\n",
              "          dataTable['output_type'] = 'display_data';\n",
              "          await google.colab.output.renderOutput(dataTable, element);\n",
              "          const docLink = document.createElement('div');\n",
              "          docLink.innerHTML = docLinkHtml;\n",
              "          element.appendChild(docLink);\n",
              "        }\n",
              "      </script>\n",
              "    </div>\n",
              "  </div>\n",
              "  "
            ]
          },
          "metadata": {},
          "execution_count": 10
        }
      ]
    },
    {
      "cell_type": "code",
      "source": [
        "# черчение диаграммы точности в зависимости от обучения\n",
        "plt.figure(figsize = (16,5))\n",
        "plt.plot(array_errors['max_features'], array_errors['accuracy'], label = 'Accuracy')\n",
        "plt.xlabel('max_features')\n",
        "plt.ylabel('Ошибка')\n",
        "plt.grid()\n",
        "plt.legend()\n",
        "plt.show()"
      ],
      "metadata": {
        "colab": {
          "base_uri": "https://localhost:8080/",
          "height": 335
        },
        "id": "wn5Fml4Opp4n",
        "outputId": "b50d4fc9-5729-4d56-c749-a5c23a0a78fd"
      },
      "execution_count": 11,
      "outputs": [
        {
          "output_type": "display_data",
          "data": {
            "text/plain": [
              "<Figure size 1152x360 with 1 Axes>"
            ],
            "image/png": "[encoded data removed]"
          },
          "metadata": {
            "needs_background": "light"
          }
        }
      ]
    },
    {
      "cell_type": "markdown",
      "source": [
        " PCA"
      ],
      "metadata": {
        "id": "weXq0ex5tEPx"
      }
    },
    {
      "cell_type": "code",
      "source": [
        "# массив для ошибок, чтобы потом построить график\n",
        "array_errors = pd.DataFrame(columns=['n_components', 'accuracy'])\n",
        "\n",
        "tweet = 'tweet_lemmatized'\n",
        "\n",
        "train_x, valid_x, train_y, valid_y = model_selection.train_test_split(df_train[tweet], df_train['label'])\n",
        "\n",
        "for i in np.arange(10, 101, 10):\n",
        "    vect = TfidfVectorizer(max_df=0.9, max_features=900, stop_words='english')\n",
        "    vect.fit(df_train[tweet])\n",
        "\n",
        "    xtrain_count =  vect.transform(train_x)\n",
        "    xvalid_count =  vect.transform(valid_x)\n",
        "\n",
        "    #PCA\n",
        "    pca = PCA(n_components=i)\n",
        "    pca.fit(xtrain_count.toarray())\n",
        "\n",
        "    xtrain_pca = pca.transform(xtrain_count.toarray())\n",
        "    xvalid_pca = pca.transform(xvalid_count.toarray())\n",
        "\n",
        "    classifier = linear_model.LogisticRegression()\n",
        "    classifier.fit(xtrain_pca, train_y)\n",
        "    predictions = classifier.predict(xvalid_pca)\n",
        "\n",
        "    array_errors = array_errors.append({'n_components': i, 'accuracy': round(accuracy_score(valid_y, predictions)*100,2)}, ignore_index=True)"
      ],
      "metadata": {
        "id": "M53-60qxtDmn"
      },
      "execution_count": 15,
      "outputs": []
    },
    {
      "cell_type": "code",
      "source": [
        "array_errors.sort_values(by=['accuracy'], ascending=False)"
      ],
      "metadata": {
        "colab": {
          "base_uri": "https://localhost:8080/",
          "height": 363
        },
        "id": "1OQK0buoxJ3t",
        "outputId": "db67b664-c0a6-4d23-d241-f4f798377342"
      },
      "execution_count": 16,
      "outputs": [
        {
          "output_type": "execute_result",
          "data": {
            "text/plain": [
              "   n_components  accuracy\n",
              "7          80.0     94.13\n",
              "9         100.0     94.09\n",
              "8          90.0     94.04\n",
              "6          70.0     93.99\n",
              "5          60.0     93.97\n",
              "4          50.0     93.62\n",
              "3          40.0     93.58\n",
              "0          10.0     93.48\n",
              "2          30.0     93.47\n",
              "1          20.0     93.38"
            ],
            "text/html": [
              "\n",
              "  <div id=\"df-cd707d1e-4fc5-4488-a2eb-4cb2f6374866\">\n",
              "    <div class=\"colab-df-container\">\n",
              "      <div>\n",
              "<style scoped>\n",
              "    .dataframe tbody tr th:only-of-type {\n",
              "        vertical-align: middle;\n",
              "    }\n",
              "\n",
              "    .dataframe tbody tr th {\n",
              "        vertical-align: top;\n",
              "    }\n",
              "\n",
              "    .dataframe thead th {\n",
              "        text-align: right;\n",
              "    }\n",
              "</style>\n",
              "<table border=\"1\" class=\"dataframe\">\n",
              "  <thead>\n",
              "    <tr style=\"text-align: right;\">\n",
              "      <th></th>\n",
              "      <th>n_components</th>\n",
              "      <th>accuracy</th>\n",
              "    </tr>\n",
              "  </thead>\n",
              "  <tbody>\n",
              "    <tr>\n",
              "      <th>7</th>\n",
              "      <td>80.0</td>\n",
              "      <td>94.13</td>\n",
              "    </tr>\n",
              "    <tr>\n",
              "      <th>9</th>\n",
              "      <td>100.0</td>\n",
              "      <td>94.09</td>\n",
              "    </tr>\n",
              "    <tr>\n",
              "      <th>8</th>\n",
              "      <td>90.0</td>\n",
              "      <td>94.04</td>\n",
              "    </tr>\n",
              "    <tr>\n",
              "      <th>6</th>\n",
              "      <td>70.0</td>\n",
              "      <td>93.99</td>\n",
              "    </tr>\n",
              "    <tr>\n",
              "      <th>5</th>\n",
              "      <td>60.0</td>\n",
              "      <td>93.97</td>\n",
              "    </tr>\n",
              "    <tr>\n",
              "      <th>4</th>\n",
              "      <td>50.0</td>\n",
              "      <td>93.62</td>\n",
              "    </tr>\n",
              "    <tr>\n",
              "      <th>3</th>\n",
              "      <td>40.0</td>\n",
              "      <td>93.58</td>\n",
              "    </tr>\n",
              "    <tr>\n",
              "      <th>0</th>\n",
              "      <td>10.0</td>\n",
              "      <td>93.48</td>\n",
              "    </tr>\n",
              "    <tr>\n",
              "      <th>2</th>\n",
              "      <td>30.0</td>\n",
              "      <td>93.47</td>\n",
              "    </tr>\n",
              "    <tr>\n",
              "      <th>1</th>\n",
              "      <td>20.0</td>\n",
              "      <td>93.38</td>\n",
              "    </tr>\n",
              "  </tbody>\n",
              "</table>\n",
              "</div>\n",
              "      <button class=\"colab-df-convert\" onclick=\"convertToInteractive('df-cd707d1e-4fc5-4488-a2eb-4cb2f6374866')\"\n",
              "              title=\"Convert this dataframe to an interactive table.\"\n",
              "              style=\"display:none;\">\n",
              "        \n",
              "  <svg xmlns=\"http://www.w3.org/2000/svg\" height=\"24px\"viewBox=\"0 0 24 24\"\n",
              "       width=\"24px\">\n",
              "    <path d=\"M0 0h24v24H0V0z\" fill=\"none\"/>\n",
              "    <path d=\"M18.56 5.44l.94 2.06.94-2.06 2.06-.94-2.06-.94-.94-2.06-.94 2.06-2.06.94zm-11 1L8.5 8.5l.94-2.06 2.06-.94-2.06-.94L8.5 2.5l-.94 2.06-2.06.94zm10 10l.94 2.06.94-2.06 2.06-.94-2.06-.94-.94-2.06-.94 2.06-2.06.94z\"/><path d=\"M17.41 7.96l-1.37-1.37c-.4-.4-.92-.59-1.43-.59-.52 0-1.04.2-1.43.59L10.3 9.45l-7.72 7.72c-.78.78-.78 2.05 0 2.83L4 21.41c.39.39.9.59 1.41.59.51 0 1.02-.2 1.41-.59l7.78-7.78 2.81-2.81c.8-.78.8-2.07 0-2.86zM5.41 20L4 18.59l7.72-7.72 1.47 1.35L5.41 20z\"/>\n",
              "  </svg>\n",
              "      </button>\n",
              "      \n",
              "  <style>\n",
              "    .colab-df-container {\n",
              "      display:flex;\n",
              "      flex-wrap:wrap;\n",
              "      gap: 12px;\n",
              "    }\n",
              "\n",
              "    .colab-df-convert {\n",
              "      background-color: #E8F0FE;\n",
              "      border: none;\n",
              "      border-radius: 50%;\n",
              "      cursor: pointer;\n",
              "      display: none;\n",
              "      fill: #1967D2;\n",
              "      height: 32px;\n",
              "      padding: 0 0 0 0;\n",
              "      width: 32px;\n",
              "    }\n",
              "\n",
              "    .colab-df-convert:hover {\n",
              "      background-color: #E2EBFA;\n",
              "      box-shadow: 0px 1px 2px rgba(60, 64, 67, 0.3), 0px 1px 3px 1px rgba(60, 64, 67, 0.15);\n",
              "      fill: #174EA6;\n",
              "    }\n",
              "\n",
              "    [theme=dark] .colab-df-convert {\n",
              "      background-color: #3B4455;\n",
              "      fill: #D2E3FC;\n",
              "    }\n",
              "\n",
              "    [theme=dark] .colab-df-convert:hover {\n",
              "      background-color: #434B5C;\n",
              "      box-shadow: 0px 1px 3px 1px rgba(0, 0, 0, 0.15);\n",
              "      filter: drop-shadow(0px 1px 2px rgba(0, 0, 0, 0.3));\n",
              "      fill: #FFFFFF;\n",
              "    }\n",
              "  </style>\n",
              "\n",
              "      <script>\n",
              "        const buttonEl =\n",
              "          document.querySelector('#df-cd707d1e-4fc5-4488-a2eb-4cb2f6374866 button.colab-df-convert');\n",
              "        buttonEl.style.display =\n",
              "          google.colab.kernel.accessAllowed ? 'block' : 'none';\n",
              "\n",
              "        async function convertToInteractive(key) {\n",
              "          const element = document.querySelector('#df-cd707d1e-4fc5-4488-a2eb-4cb2f6374866');\n",
              "          const dataTable =\n",
              "            await google.colab.kernel.invokeFunction('convertToInteractive',\n",
              "                                                     [key], {});\n",
              "          if (!dataTable) return;\n",
              "\n",
              "          const docLinkHtml = 'Like what you see? Visit the ' +\n",
              "            '<a target=\"_blank\" href=https://colab.research.google.com/notebooks/data_table.ipynb>data table notebook</a>'\n",
              "            + ' to learn more about interactive tables.';\n",
              "          element.innerHTML = '';\n",
              "          dataTable['output_type'] = 'display_data';\n",
              "          await google.colab.output.renderOutput(dataTable, element);\n",
              "          const docLink = document.createElement('div');\n",
              "          docLink.innerHTML = docLinkHtml;\n",
              "          element.appendChild(docLink);\n",
              "        }\n",
              "      </script>\n",
              "    </div>\n",
              "  </div>\n",
              "  "
            ]
          },
          "metadata": {},
          "execution_count": 16
        }
      ]
    },
    {
      "cell_type": "code",
      "source": [
        "# черчение диаграммы точности в зависимости от обучения\n",
        "plt.figure(figsize = (16,5))\n",
        "plt.plot(array_errors['n_components'], array_errors['accuracy'], label = 'Accuracy')\n",
        "plt.xlabel('n_components')\n",
        "plt.ylabel('Ошибка')\n",
        "plt.grid()\n",
        "plt.legend()\n",
        "plt.show()"
      ],
      "metadata": {
        "colab": {
          "base_uri": "https://localhost:8080/",
          "height": 334
        },
        "id": "6Z13g7H5xQcR",
        "outputId": "2412431f-6ee7-4ac1-c0ce-0d1d91521f44"
      },
      "execution_count": 17,
      "outputs": [
        {
          "output_type": "display_data",
          "data": {
            "text/plain": [
              "<Figure size 1152x360 with 1 Axes>"
            ],
            "image/png": "[encoded data removed]"
          },
          "metadata": {
            "needs_background": "light"
          }
        }
      ]
    },
    {
      "cell_type": "markdown",
      "source": [
        "### Вывод: Чем больше признаков мы создаём при векторизации текста, чем лучше модель определяет зависимости. При уменьшении размерности полученных векторов, мы соответственно теряем часть информации, что и показывает падение метрики нашей модели."
      ],
      "metadata": {
        "id": "mIyV2yUYzdw_"
      }
    }
  ]
}